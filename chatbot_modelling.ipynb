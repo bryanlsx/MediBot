{
  "nbformat": 4,
  "nbformat_minor": 0,
  "metadata": {
    "colab": {
      "provenance": []
    },
    "kernelspec": {
      "name": "python3",
      "display_name": "Python 3"
    },
    "language_info": {
      "name": "python"
    }
  },
  "cells": [
    {
      "cell_type": "markdown",
      "source": [
        "# Install stuff"
      ],
      "metadata": {
        "id": "gtP4EdmOOHcb"
      }
    },
    {
      "cell_type": "code",
      "execution_count": null,
      "metadata": {
        "colab": {
          "base_uri": "https://localhost:8080/"
        },
        "id": "KIu3b1dmEmRs",
        "outputId": "8978a3fd-17fb-4522-cfde-985d659dc142"
      },
      "outputs": [
        {
          "output_type": "stream",
          "name": "stdout",
          "text": [
            "2.9.2\n"
          ]
        }
      ],
      "source": [
        "import tensorflow as tf \n",
        "print(tf.__version__)"
      ]
    },
    {
      "cell_type": "code",
      "source": [
        "import nltk"
      ],
      "metadata": {
        "id": "Ia4TSqs7uFrV"
      },
      "execution_count": null,
      "outputs": []
    },
    {
      "cell_type": "code",
      "source": [
        "nltk.download('punkt')"
      ],
      "metadata": {
        "colab": {
          "base_uri": "https://localhost:8080/"
        },
        "id": "INsqCqNrUnFY",
        "outputId": "f304bf6e-bc82-45a5-cac0-4f152e59c1a8"
      },
      "execution_count": null,
      "outputs": [
        {
          "output_type": "stream",
          "name": "stderr",
          "text": [
            "[nltk_data] Downloading package punkt to /root/nltk_data...\n",
            "[nltk_data]   Unzipping tokenizers/punkt.zip.\n"
          ]
        },
        {
          "output_type": "execute_result",
          "data": {
            "text/plain": [
              "True"
            ]
          },
          "metadata": {},
          "execution_count": 3
        }
      ]
    },
    {
      "cell_type": "code",
      "source": [
        "nltk.download('wordnet')"
      ],
      "metadata": {
        "colab": {
          "base_uri": "https://localhost:8080/"
        },
        "id": "XeT4ZlIPZObJ",
        "outputId": "9242975d-ae56-4180-d761-698628fd34af"
      },
      "execution_count": null,
      "outputs": [
        {
          "output_type": "stream",
          "name": "stderr",
          "text": [
            "[nltk_data] Downloading package wordnet to /root/nltk_data...\n"
          ]
        },
        {
          "output_type": "execute_result",
          "data": {
            "text/plain": [
              "True"
            ]
          },
          "metadata": {},
          "execution_count": 4
        }
      ]
    },
    {
      "cell_type": "code",
      "source": [
        "nltk.download('omw-1.4')"
      ],
      "metadata": {
        "colab": {
          "base_uri": "https://localhost:8080/"
        },
        "id": "vwd7hNvTZTJx",
        "outputId": "c965db39-7fd4-47e5-b907-94847a63f732"
      },
      "execution_count": null,
      "outputs": [
        {
          "output_type": "stream",
          "name": "stderr",
          "text": [
            "[nltk_data] Downloading package omw-1.4 to /root/nltk_data...\n"
          ]
        },
        {
          "output_type": "execute_result",
          "data": {
            "text/plain": [
              "True"
            ]
          },
          "metadata": {},
          "execution_count": 5
        }
      ]
    },
    {
      "cell_type": "code",
      "source": [
        "!pip install malaya"
      ],
      "metadata": {
        "id": "GTa8Zjr1Nzdu"
      },
      "execution_count": null,
      "outputs": []
    },
    {
      "cell_type": "markdown",
      "source": [
        "# Import stuff"
      ],
      "metadata": {
        "id": "cvg_sYnGPdYZ"
      }
    },
    {
      "cell_type": "code",
      "source": [
        "%%time\n",
        "\n",
        "import malaya\n",
        "import logging\n",
        "\n",
        "logging.basicConfig(level=logging.INFO)"
      ],
      "metadata": {
        "id": "O5CG1J2gN2ae"
      },
      "execution_count": null,
      "outputs": []
    },
    {
      "cell_type": "code",
      "source": [
        "import numpy as np\n",
        "import random \n",
        "import json\n",
        "import nltk\n",
        "from nltk.stem import WordNetLemmatizer\n",
        "import pickle\n",
        "\n",
        "from keras.models import Sequential\n",
        "from keras.layers import Dense, Activation, Dropout\n",
        "from keras.optimizers import SGD"
      ],
      "metadata": {
        "id": "w-_ff3LjHw0y"
      },
      "execution_count": null,
      "outputs": []
    },
    {
      "cell_type": "markdown",
      "source": [
        "**Add intents3.json file**"
      ],
      "metadata": {
        "id": "dm1azvfZOPr6"
      }
    },
    {
      "cell_type": "markdown",
      "source": [
        "JSON file display see what's inside"
      ],
      "metadata": {
        "id": "ISZhhLF1QUi4"
      }
    },
    {
      "cell_type": "code",
      "source": [
        "with open('intents3.json') as file:\n",
        "  data = json.load(file)"
      ],
      "metadata": {
        "id": "eml1b3MpQUQ4"
      },
      "execution_count": null,
      "outputs": []
    },
    {
      "cell_type": "code",
      "source": [
        "print(data[\"intents\"])"
      ],
      "metadata": {
        "colab": {
          "base_uri": "https://localhost:8080/"
        },
        "id": "nLNoofILQku_",
        "outputId": "ddacd60a-e043-45db-b2e2-74bfb095f365"
      },
      "execution_count": null,
      "outputs": [
        {
          "output_type": "stream",
          "name": "stdout",
          "text": [
            "[{'tag': 'error', 'patterns': [''], 'responses': ['Maaf, saya masih tidak faham, sila cuba lagi. Untuk carian simptom, anda boleh masukkan kata kunci seperti batuk, sesak nafas, letih. Untuk carian pencegahan, anda boleh masukkan kata kunci seperti elak, ubat, cegah']}, {'tag': 'return', 'patterns': [''], 'responses': [\"Hi, selamat datang ke Farmasi NLP!\\n1. Taip 'mic'--untuk guna mic\\n2. Masukkan simptom\\n3. Pertanyaan tentang pencegahan penyakit\\n4. Taip 'balik' untuk mula semula\\n5. Taip 'keluar'--tamat chatbot\"]}, {'tag': 'greetings', 'patterns': ['helo', 'hey', 'hi', 'hai', 'salam', 'apa khabar?', 'Bagaimana keadaannya'], 'responses': ['helo', 'hey!', 'Apa yang boleh saya buat untuk anda?']}, {'tag': 'goodbye', 'patterns': ['jumpa lagi', 'Selamat tinggal', 'cao', 'Semoga hari anda indah'], 'responses': ['Semoga hari anda indah', 'Selamat tinggal']}, {'tag': 'age', 'patterns': ['berapa umur', 'berapakah umur kamu?', 'berapakah umur anda', 'berapakah umur kamu', 'umur?'], 'responses': ['saya dilahirkan semula selepas setiap penyusunan', 'hey!', 'Pemilik saya secara purata 21 tahun!']}, {'tag': 'name', 'patterns': ['Siapa nama anda', 'Apa yang harus saya panggil anda', 'Siapa nama anda?', 'Siapa awak?', 'Bolehkah anda memberitahu saya nama anda'], 'responses': ['Anda boleh memanggil saya Medbot!', 'Saya medbot!!', 'Saya medbot pembantu perubatan anda']}, {'tag': 'cold symptoms', 'patterns': ['hidung berair atau tersumbat', 'sakit tekak', 'batuk', 'kesesakan', 'sedikit sakit badan atau sakit kepala ringan', 'bersin', 'Demam gred rendah', 'secara amnya berasa tidak sihat'], 'responses': [\"Nampaknya anda menderita selsema biasa\\n          Untuk mengetahui lebih info, sila taip 'y' atau 't' untuk tidak\"]}, {'tag': 'fever symptoms', 'patterns': ['berpeluh', 'menggigil', 'sakit kepala', 'sakit otot', 'hilang selera makan', 'kerengsaan', 'dehidrasi', 'kelemahan umum'], 'responses': [\"Nampaknya anda menderita demam\\n          Untuk mengetahui lebih info, sila taip 'y' atau 't' untuk tidak\"]}, {'tag': 'diabetes symptoms', 'patterns': ['peningkatan kelaparan', 'Meningkatkan kehausan', 'pengurangan berat', 'kerap kencing', 'penglihatan kabur', 'Keletihan yang melampau'], 'responses': [\"Nampaknya anda menderita diabetes\\n          Untuk mengetahui lebih info, sila taip 'y' atau 't' untuk tidak\"]}, {'tag': 'depression symptoms', 'patterns': ['Tinjauan tanpa harapan', 'kehilangan minat', 'Peningkatan keletihan', 'masalah tidur', 'kebimbangan', 'perubahan berat badan', 'melihat kematian'], 'responses': [\"Nampaknya anda mengalami kemurungan\\n          Untuk mengetahui lebih info, sila taip 'y' atau 't' untuk tidak\"]}, {'tag': 'asthma symptoms', 'patterns': ['batuk', 'Ketegangan di dada', 'sesak nafas', 'kesukaran bercakap', 'panik', 'keletihan'], 'responses': [\"Nampaknya anda menderita asma\\n          Untuk mengetahui lebih info, sila taip 'y' atau 't' untuk tidak\"]}, {'tag': 'cold prevention', 'patterns': ['Ubat -ubatan apa yang boleh saya beli untuk membantu saya dengan selsema biasa saya?', 'Beritahu saya beberapa kaedah pencegahan dari selsema biasa', 'Apa yang perlu saya makan atau minum jika saya mengalami selsema biasa?', 'Bagaimana saya boleh mengelakkan daripada mendapat selesema?'], 'responses': ['(a) Ubat-ubatan yang boleh anda makan: 1)Dextromethorphan 2)Decongestant 3)Diphenhydramine 4)Crocin Cold 5)Flu Max. (b) Pencegahan yang anda mesti ikuti: 1)Basuh tangan anda 2)Elakkan menyentuh wajah anda 3)Permukaan yang kerap digunakan 4)Gunakan sanitizer tangan. (c) Makanan yang dicadangkan adalah: 1)bawang putih 2)Buah-buahan yang mengandungi vitamin-C 3)sayur -sayuran berdaun 4)Brokoli 5)Oat 6)Rempah -rempah 7)Sup ayam']}, {'tag': 'fever prevention', 'patterns': ['Ubat -ubatan apa yang boleh saya beli untuk membantu saya dengan demam saya?', 'Beritahu saya beberapa kaedah pencegahan dari demam', 'Apa yang harus saya makan atau minum jika saya menderita demam?', 'Bagaimana saya boleh mengelakkan daripada mendapat demam?'], 'responses': ['(a) Ubat-ubatan yang boleh anda makan: 1) Acetaminophen 2) Ibuprofen 3) Aspirin 4) Crocin sejuk 5) Flu max. (b)Pencegahan yang mesti anda ikuti: 1) Basuh tangan anda 2) Tutup mulut anda apabila anda batuk dan hidung anda apabila anda bersin 3) Permukaan yang kerap digunakan 4) Elakkan berkongsi cawan, cermin mata, dan makan perkakas dengan orang lain. (c) Makanan yang dicadangkan adalah: 1) Bawang putih 2) Buah -buahan yang mengandungi vitamin C 3) Sayur -sayuran berdaun 4) brokoli 5) oat 6) rempah -rempah 7)sup ayam']}, {'tag': 'diabetes prevention', 'patterns': ['ubat apa yang boleh saya beli untuk membantu saya dengan diabetes saya?', 'Beritahu saya beberapa kaedah pencegahan dari diabetes', 'Apa yang perlu saya makan atau minum jika saya menderita diabetes?', 'Bagaimana saya boleh mengelakkan daripada mendapat diabetes?'], 'responses': ['(a) Ubat-ubatan yang boleh anda makan 1) Insulin 2) Ubat amylinomimetic  3) Dipeptidil peptidase-4 (DPP-4) inhibitor. (b) Pencegahan yang mesti anda ikut kalau anda berlebihan berat badan atau gemuk 1) Berhenti merokok 2) Ikuti diet yang sangat rendah-karboh']}, {'tag': 'depression prevention', 'patterns': ['Ubat -ubatan apa yang boleh saya beli untuk membantu saya mengalami kemurungan saya?', 'Beritahu saya beberapa kaedah pencegahan dari kemurungan', 'Apa yang perlu saya makan atau minum jika saya mengalami kemurungan?', 'Bagaimana saya boleh mengelakkan kemurungan?'], 'responses': ['(a) Ubat-ubatan yang boleh anda makan: 1) Brexpiprazole 2) Quetiapine 3) Olanzapine. (b) Pencegahan yang mesti anda ikuti: 1) Bersenam secara teratur 2) Potong masa media sosial 3) Minum air sebagai minuman utama anda 4) Membina hubungan yang kuat 5) Meminimumkan pilihan harian anda 6) Ikuti karbohidrat yang sangat rendah diet. (c) Makanan yang dicadangkan adalah: 1) Dapatkan cukup vitamin D 2) Termasuk asid lemak omega-3 3) Kacang dan kekacang']}, {'tag': 'asthma prevention', 'patterns': ['ubat apa yang boleh saya beli untuk membantu saya dengan asma saya?', 'Beritahu saya beberapa kaedah pencegahan dari asma', 'Apa yang perlu saya makan atau minum jika saya mengalami asma?', 'Bagaimana saya boleh mengelakkan asma?'], 'responses': ['(a) Ubat -ubatan yang boleh anda makan: 1) Epinephrine 2) Antikolinergik 3) Proair HFA (b) Pencegahan yang mesti anda ikuti: 1) Mengenal pasti pencetus asma 2) Menjauhkan diri dari alergen 3) Mengelakkan asap apa -apa jenis (c) Makanan yang dicadangkan adalah: 1) lobak merah 2) jus 3) telur 4) brokoli 5) cantaloupe 6) susu']}, {'tag': 'Cuts', 'patterns': ['apa yang perlu dilakukan jika pemotongan?', 'bagaimana Menyembuhkan Pemotongan?', 'ubat yang mana untuk mengguna untuk luka?', 'apa yang perlu diterapkan pada luka?', 'potong'], 'responses': ['(a) Ubat-ubatan yang boleh anda makan: 1) Acetaminophen (b) Pencegahan yang mesti anda ikuti: 1) Basuh potong dengan betul untuk mengelakkan jangkitan 2) Hentikan pendarahan dengan menggunakan tekanan untuk 1-2minutes sehingga pendarahan berhenti 3) Sapukan jeli petroleum untuk memastikan luka itu lembap untuk penyembuhan cepat 4) Akhirnya tutup potong dengan pembalut steril.']}, {'tag': 'Abrasions', 'patterns': ['bagaimana anda merawat lecet?', 'adakah lecet menyebabkan parut?', 'lecet', 'apa yang perlu dilakukan jika lecet?', 'perubatan mana yang akan memohon lecet?', 'bagaimana menyembuhkan lecet?'], 'responses': ['(a) Ubat-ubatan yang boleh anda makan: 1) S&N Opsite Spray-on Film Dressing 40ml (b) Pencegahan yang mesti anda ikuti: 1) Mulailah dengan tangan yang dibasuh. 2) Bersihkan kawasan dengan sejuk kepada air suam dan sabun ringan 3) Keluarkan kotoran atau zarah lain dari luka menggunakan pinset yang disterilkan 4) Untuk mengikis ringan yang tidak berdarah, biarkan luka yang ditemui 5) Jika luka itu berdarah, gunakan kain bersih atau pembalut, dan gunakan tekanan lembut ke kawasan itu untuk menghentikan sebarang pendarahan 6) Tutup luka yang berdarah dengan lapisan nipis salap antibiotik topikal, seperti bacitracin, atau salap halangan kelembapan steril, seperti aquaphor 7) Tutup dengan pembalut atau kain kasa yang bersih 8) Perlahan -lahan membersihkan luka dan tukar salap dan pembalut sekali sehari 9) Perhatikan kawasan untuk tanda -tanda jangkitan, seperti kesakitan atau kemerahan dan bengkak 10) Lihat doktor anda jika anda mengesyaki jangkitan.']}, {'tag': 'stings', 'patterns': ['bagaimana anda merawat sengatan?', 'sengatan', 'apa yang perlu dilakukan jika anda mendapat sengatan?', 'perubatan mana yang akan digunakan jika sting?'], 'responses': ['(a) Pencegahan yang mesti anda ikuti: 1)Keluarkan mana -mana penyengat dengan segera. 2)Sesetengah pakar mengesyorkan mengikis penyengat dengan kad kredit 3)memohon ais ke atas ini boleh memberikan sedikit kelegaan 4)Sapukan ais selama 20 minit sekali setiap jam seperti yang diperlukan 5)Palut ais dalam tuala atau simpan kain di antara ais dan kulit supaya tidak membekukan kulit 6)Mengambil antihistamin seperti diphenhydramine (benadryl) atau yang tidak disediakan seperti loratadine (claritin) akan membantu gatal -gatal dan bengkak.ambil acetaminophen (tylenol) atau ibuprofen (motrin) untuk melegakan kesakitan seperti yang diperlukan 7)Basuh tapak sengat dengan sabun dan air 8)Meletakkan krim hidrokortison pada sengatan boleh membantu melegakan kemerahan, gatal -gatal dan bengkak.']}, {'tag': 'Splinter', 'patterns': ['cara membuang serpihan', 'bagaimana menyembuhkan serpihan?', 'apa yang perlu dilakukan jika saya mempunyai serpihan?', 'bagaimana anda membawa serpihan ke permukaan?'], 'responses': ['(a) Ubat-ubatan yang boleh anda makan: Splinter Removal Kit. (b) Pencegahan yang mesti anda ikuti: 1)RENDAM DALAM GARAM EPSOM. Larutkan secawan garam ke dalam mandi hangat dan rendam bahagian badan yang mempunyai serpihan. Jika gagal, anda juga boleh meletakkan beberapa garam ke pad pembalut dan biarkan ia ditutup selama sehari; ini akhirnya akan membantu membawa serpihan ke permukaan. 2)CUKA atau MINYAK. Satu lagi cara mudah untuk menarik bahawa serpihan yang degil adalah untuk merendam kawasan yang terjejas dalam minyak (zaitun atau jagung) atau cuka putih. Cukup tuangkan beberapa dalam mangkuk dan rendam kawasan selama 20 hingga 30 minit,']}, {'tag': 'Sprains', 'patterns': ['bagaimana anda merawat jika terseliuh?', 'apa yang perlu dilakukan jika saya terseliuh', 'krim mana yang hendak digunakan jika saya terseliuh?', 'perubatan mana yang akan digunakan jika saya terseliuh?'], 'responses': [\"(a) Ubat-ubatan yang boleh anda makan:: Kordel's EZI Cream 100g. (b) Pencegahan yang mesti anda ikuti: 1) Gunakan pek ais atau mandi ais dengan segera selama 15 hingga 20 minit dan ulangi setiap dua hingga tiga jam semasa anda terjaga. 2)Untuk membantu menghentikan bengkak, memampatkan pergelangan kaki dengan pembalut elastik sehingga bengkak berhenti. 3)Dalam kebanyakan kes, penghilang rasa sakit - seperti ibuprofen (advil, motrin ib, yang lain) atau naproxen natrium (aleve, yang lain) atau acetaminophen (tylenol, yang lain) cukup untuk menguruskan kesakitan pergelangan kaki yang terselindung.\"]}, {'tag': 'Strains', 'patterns': ['bagaimana anda merawat ketegangan?', 'apa yang perlu dilakukan jika saya mendapat ketegangan?', 'krim mana yang hendak digunakan jika saya mendapat ketegangan?', 'perubatan mana yang akan digunakan jika saya mendapat ketegangan?', 'bagaimana anda mendiagnosis ketegangan?', 'adakah haba atau ais lebih baik untuk otot yang ditarik?'], 'responses': ['(a) Ubat-ubatan yang boleh anda makan: Biolife Imunix. (b) Pencegahan yang mesti anda ikuti: Apabila anda disumbat, fokus pada menjaga laluan hidung dan sinus anda lembap.untuk memastikan laluan hidung anda lembap, anda boleh: 1)Gunakan humidifier atau vaporizer. 2)Minum banyak cecair.ini akan menipis lendir anda, yang dapat membantu mencegah sinus yang disekat. 3)Letakkan tuala yang hangat dan basah di wajah anda.ia boleh melegakan ketidakselesaan dan membuka bahagian hidung anda.']}, {'tag': 'Nasal Congestion', 'patterns': ['bagaimana anda merawat kesesakan hidung?', 'apa yang perlu dilakukan jika saya mendapat kesesakan hidung?', 'perubatan mana yang perlu diambil jika saya mempunyai kesesakan hidung?', 'apa yang perlu dilakukan jika saya mempunyai hidung yang disekat?', 'bagaimana anda merawat hidung yang disekat?', 'berapa lama kesesakan hidung berlangsung?'], 'responses': [\"(a) Ubat-ubatan yang boleh anda makan: Hurix's Coldaway Nasal Inhaler 2ml.  (b) Pencegahan yang mesti anda ikuti: Apabila anda disumbat, fokus pada menjaga laluan hidung dan sinus anda lembap.untuk memastikan laluan hidung anda lembap, anda boleh: 1)Gunakan humidifier atau vaporizer. 2)Minum banyak cecair.ini akan menipis lendir anda, yang dapat membantu mencegah sinus yang disekat. 3)Letakkan tuala yang hangat dan basah di wajah anda.ia boleh melegakan ketidakselesaan dan membuka bahagian hidung anda.\"]}, {'tag': 'Gastrointestinal Problems', 'patterns': ['bagaimana anda merawat masalah gas?', 'apa yang perlu dilakukan jika saya mempunyai masalah gastrousus?', 'perubatan mana yang perlu diambil jika saya mendapat masalah gas?', 'bagaimana menyembuhkan masalah gas?'], 'responses': ['(a) Ubat-ubatan yang boleh anda makan: Ultracarbon. (b) Pencegahan yang mesti anda ikuti: 1)Menambah cecair badan. 2)Jangan ambil ubat antidiarrheal atau julap atau ubat sakit, kecuali yang ditentukan oleh profesional perubatan. 3)Mengambil antacid boleh membantu, setiap cadangan profesional penjagaan kesihatan. 4)Jika terdedah kepada pedih ulu hati yang kerap, dapatkan bantuan perubatan. 5)Mengambil makanan yang tidak pedas secara teratur, boleh melegakan sakit ulser. 6)Dapatkan bantuan perubatan, jika keadaan berterusan atau terus bertambah buruk']}, {'tag': 'Skin Problems', 'patterns': ['bagaimana anda merawat masalah kulit?', 'apa yang perlu dilakukan jika saya mendapat alahan kulit?', 'perubatan mana yang perlu diambil jika saya mendapat alahan kulit?', 'bagaimana menyembuhkan alahan kulit?'], 'responses': ['(a) Ubat-ubatan yang boleh anda makan: Ceradan Skin Repair Cream 30g. (b) Pencegahan yang mesti anda ikuti: 1)Krim hydrocortisone 2)Salap seperti losyen calamine 3)Antihistamin 4)Mampatan sejuk 5)Mandi oat 6)Bercakap dengan doktor anda tentang apa yang terbaik untuk ruam khusus anda.']}, {'tag': 'Abdonominal Pain', 'patterns': ['bagaimana anda merawat sakit perut?', 'apa yang perlu dilakukan jika saya mendapat sakit perut?', 'perubatan mana yang perlu diambil jika saya mendapat sakit perut?', 'bagaimana menyembuhkan sakit perut?'], 'responses': ['(a) Ubat-ubatan yang boleh anda makan: Petani Minyak Telon Petani 60ml. (b) Pencegahan yang mesti anda ikuti: 1)Sediakan cecair yang jelas untuk menghirup, seperti air, sup, atau jus buah yang dicairkan dengan air. 2)Hidangkan makanan hambar, seperti keropok garam, roti biasa, roti bakar kering, nasi, gelatin, atau epal. 3)Elakkan makanan pedas atau berminyak dan minuman kafein atau berkarbonat sehingga 48 jam selepas semua gejala telah hilang.']}, {'tag': 'Bruises', 'patterns': ['bagaimana anda merawat lebam?', 'apa yang perlu dilakukan jika saya mendapat lebam?', 'perubatan mana yang perlu diambil jika saya mendapat lebam?', 'bagaimana menyembuhkan lebam?'], 'responses': ['a. Ubat-ubatan yang boleh anda makan: Mentholatum Ointment 28g. (b) Pencegahan yang mesti anda ikuti: 1)Ais lebam dengan pek ais yang dibalut dengan tuala. 2)Biarkan di tempat selama 10 hingga 20 minit. 3)Ulangi beberapa kali sehari untuk satu atau dua hari yang diperlukan. 4)Memampatkan kawasan lebam jika ia bengkak, menggunakan pembalut elastik.']}, {'tag': 'Wound', 'patterns': ['bagaimana anda merawat luka?', 'apa yang perlu dilakukan jika saya mendapat luka?', 'perubatan mana yang perlu diambil jika saya cedera?', 'bagaimana menyembuhkan luka?'], 'responses': ['(a) Ubat-ubatan yang boleh anda makan: Hansaplast Wound Spray 100ml. (b) Pencegahan yang mesti anda ikuti: 1)Bilas potongan atau luka dengan air dan gunakan tekanan dengan kasa steril, pembalut, atau kain bersih. 2)Jika darah mengalir melalui pembalut, letakkan pembalut lain di atas yang pertama dan teruskan tekanan. 3)Meningkatkan bahagian badan yang cedera untuk perlahan pendarahan. 4)Apabila pendarahan berhenti, tutup luka dengan pembalut yang baru dan bersih.']}, {'tag': 'Diarrhea', 'patterns': ['bagaimana anda merawat cirit birit?', 'apa yang perlu dilakukan jika saya mendapat cirit birit?', 'perubatan mana yang perlu diambil jika saya mendapat cirit birit?', 'bagaimana menyembuhkan cirit birit?'], 'responses': [\"(a) Ubat-ubatan yang boleh anda makan: Uphalyte Orange Sac 50's Box. (b) Pencegahan yang mesti anda ikuti: 1)Menghidrat badan adalah penting untuk pulih dari cirit -birit. ini menyebabkan badan kehilangan elektrolit seperti natrium dan klorida. 2)Sangat disyorkan untuk mengelakkan produk tenusu, kerana mereka mungkin memburukkan cirit -birit dalam sesetengah orang. 3)Walau bagaimanapun, jika cirit -birit berlangsung selama lebih dari 2 hari, dapatkan nasihat perubatan untuk mengelakkan komplikasi.\"]}, {'tag': 'Insect Bites', 'patterns': ['bagaimana anda merawat gigitan serangga?', 'apa yang perlu dilakukan jika serangga menggigit saya?', 'perubatan mana yang perlu diambil jika saya digigit oleh serangga?', 'Bagaimana menyembuhkan gigitan serangga?'], 'responses': [\"(a) Ubat-ubatan yang boleh anda makan: Hurix's Insect Bites Cream 13gm. (b) Pencegahan yang mesti anda ikuti: 1)Basuh kawasan yang terjejas dengan sabun dan air.sapukan kompres sejuk (seperti flanel atau kain yang disejukkan dengan air sejuk atau pek ais ke mana -mana bengkak selama sekurang -kurangnya 10 minit. 2)Meningkatkan atau meningkatkan kawasan yang terjejas jika boleh, kerana ini dapat membantu mengurangkan bengkak.\"]}, {'tag': 'Pulled Muscle', 'patterns': ['apa yang perlu dilakukan jika otot saya ditarik?', 'apa yang perlu dilakukan jika otot saya ditarik?', 'perubatan mana yang perlu diambil jika saya mendapat otot yang ditarik?', 'bagaimana menyembuhkan otot yang ditarik?'], 'responses': ['(a) Ubat-ubatan yang boleh anda makan: Tiger Balm Active Muscle Rub 60g. (b) Pencegahan yang mesti anda ikuti: 1)Sapukan ais selama 10 hingga 15 minit setiap 1 jam untuk hari pertama dan setiap 3 hingga 4 jam selepas itu. 2)Gunakan ais untuk 3 hari pertama. 3)Selepas 3 hari, sama ada haba atau ais boleh membantu jika anda masih mengalami kesakitan. 4)Rehat otot yang ditarik selama sekurang -kurangnya sehari.']}, {'tag': 'Eye Injury', 'patterns': ['bagaimana anda merawat kecederaan mata?', 'apa yang perlu dilakukan jika saya mendapat kecederaan mata?', 'perubatan mana yang perlu diambil jika saya mencederakan mata saya?', 'bagaimana menyembuhkan mata yang cedera?'], 'responses': ['(a) Ubat-ubatan yang boleh anda guna: Optrex Eye Wash Harmomize 110ml atau 300ml. (b) Pencegahan yang mesti anda ikuti: 1)Jangan gosokkan mata. 2)Berkedip beberapa kali dan biarkan air mata mengeluarkan zarah. 3)Angkat kelopak mata atas ke atas bulu mata bawah anda untuk membiarkan bulu mata cuba menyikat zarah. 4)Eyewash, larutan garam atau air paip mengalir ke mata']}, {'tag': 'Headache', 'patterns': ['bagaimana anda merawat sakit kepala yang ringan?', 'apa yang perlu dilakukan jika saya mengalami sakit kepala yang ringan?', 'perubatan mana yang perlu diambil jika saya mengalami sakit kepala yang ringan?', 'bagaimana menyembuhkan sakit kepala ringan?'], 'responses': ['(a) Ubat-ubatan yang boleh anda makan: Panadol Actifast. (b) Pencegahan yang mesti anda ikuti: 1)Berikan ibuprofen (advil, motrin), aspirin, atau acetaminophen (tylenol) untuk kesakitan. 2)Elakkan ibuprofen dan nsaid lain jika orang itu mengalami kegagalan jantung atau kegagalan buah pinggang. 3)Jangan berikan aspirin kepada kanak -kanak di bawah umur 18 tahun.']}, {'tag': 'Rash', 'patterns': ['bagaimana anda merawat ruam?', 'apa yang perlu dilakukan jika saya mendapat ruam?', 'perubatan mana yang perlu diambil jika saya mengalami ruam?', 'bagaimana menyembuhkan ruam?'], 'responses': [\"(a) Ubat-ubatan yang boleh anda guna: Egoderm Ointment 25g. (b) Pencegahan yang mesti anda ikuti: 1)Menjaga terhidrasi adalah sangat penting untuk membantu 'menghilangkan' sejuk, serta untuk memecahkan kesesakan dan menjaga tekak anda dilincirkan. 2)Vitamin C sangat membantu apabila memerangi jangkitan, jadi pada tanda pertama sejuk pastikan untuk meningkatkan pengambilan anda dengan makan banyak buah beri, buah sitrus, pepayas, brokoli dan lada merah yang akan membantu anda melindungi anda. 3)Ketika datang untuk memerangi sejuk, vitamin d adalah penting dalam membantu mengawal tindak balas imun.\"]}, {'tag': 'Snake bite', 'patterns': ['bagaimana anda merawat gigitan ular?', 'apa yang perlu dilakukan jika saya mendapat gigitan ular?', 'perubatan mana yang perlu diambil jika saya mendapat gigitan ular?', 'bagaimana menyembuhkan gigitan ular?', 'saya mendapat sedikit ular'], 'responses': ['a. Ubat-ubatan yang boleh anda guna: Snake Bite Kit  (b) Pencegahan yang mesti anda ikuti: Semasa menunggu bantuan perubatan: 1)Gerakkan orang itu melampaui jarak ular. 2)Adakah orang itu berbaring dengan luka di bawah hati. 3)Pastikan orang itu tenang dan berehat, selebihnya masih mungkin untuk menyimpan racun daripada menyebarkan. 4)Tutup luka dengan pembalut steril yang longgar. 5)Keluarkan sebarang perhiasan dari kawasan yang digigit. 6)Keluarkan kasut jika kaki atau kaki digigit.']}, {'tag': 'Animal bite', 'patterns': ['bagaimana anda merawat gigitan haiwan?', 'bagaimana anda merawat gigitan monyet?', 'bagaimana anda merawat gigitan anjing?', 'apa yang perlu dilakukan jika saya mendapat gigitan haiwan?', 'perubatan mana yang perlu diambil jika saya mendapat gigitan monyet?', 'bagaimana menyembuhkan gigitan anjing?', 'saya digigit oleh anjing'], 'responses': ['(a) Ubat-ubatan yang boleh anda guna: Bacitracin First aid Antibiotic Ointment, USP - 1/2 Oz. (b) Pencegahan yang mesti anda ikuti: 1)Basuh luka dengan sabun dan air suam. 2)Perlahan -lahan tekan kain bersih di atas luka untuk menghentikan aliran darah. 3)Sapukan salap antibakteria pada luka. 4)Tutup dengan pembalut steril. 5)Tonton tanda -tanda jangkitan. 6)Dapatkan bantuan jika anda mengesyaki jangkitan atau kemungkinan pendedahan kepada rabies, atau jika luka itu teruk.']}, {'tag': 'Fracture', 'patterns': ['bagaimana anda merawat patah tulang?', 'apa yang perlu dilakukan jika saya mengalami patah tulang?', 'perubatan mana yang perlu diambil jika saya mengalami patah tulang?', 'bagaimana menyembuhkan patah?'], 'responses': ['(a) Pencegahan yang mesti anda ikuti: 1)Hentikan pendarahan. Sapukan tekanan kepada luka dengan pembalut steril, kain bersih atau pakaian yang bersih. 2)Melancarkan kawasan yang cedera. Jangan cuba menyusun semula tulang atau menolak tulang yang melekat semula. Jika anda telah dilatih dalam cara untuk membuang dan bantuan profesional tidak sedia ada, gunakan splint ke kawasan di atas dan di bawah tapak patah. Padding splint boleh membantu mengurangkan ketidakselesaan. 3)Sapukan pek ais untuk mengehadkan bengkak dan membantu melegakan kesakitan. Jangan gunakan ais terus ke kulit. Balut ais dalam tuala, sekeping kain atau bahan lain. 4)Rawat kejutan. Sekiranya orang itu berasa lemah atau bernafas secara pendek, nafas cepat, letakkan orang itu dengan kepala sedikit lebih rendah daripada batang dan, jika boleh, angkat kaki.  ']}]\n"
          ]
        }
      ]
    },
    {
      "cell_type": "markdown",
      "source": [
        "Forming empty list "
      ],
      "metadata": {
        "id": "3D-YCbAoRRnA"
      }
    },
    {
      "cell_type": "code",
      "source": [
        "words = []\n",
        "labels = []\n",
        "docs = []\n",
        "ignore_words = ['!','”','#','$','%','&','’','(',')','*','+',',','-','.','/',':',';','<','=','>','?','@','[',']','^','_',\"'\",'{','|','}','~']"
      ],
      "metadata": {
        "id": "skceNUWDRRZ4"
      },
      "execution_count": null,
      "outputs": []
    },
    {
      "cell_type": "markdown",
      "source": [
        "Looping the json file"
      ],
      "metadata": {
        "id": "PwfurkgtRcZg"
      }
    },
    {
      "cell_type": "code",
      "source": [
        "for intent in data['intents']:\n",
        "  for pattern in intent['patterns']:\n",
        "\n",
        "    #tokenize each word \n",
        "    # for malay\n",
        "    tokenizer = malaya.tokenizer.Tokenizer()\n",
        "    w= tokenizer.tokenize(pattern)\n",
        "    # w = nltk.word_tokenize(pattern)\n",
        "    words.extend(w)\n",
        "\n",
        "    # add document in the corpus\n",
        "    docs.append((w, intent['tag']))\n",
        "\n",
        "    # add to label list\n",
        "    if intent['tag'] not in labels:\n",
        "      labels.append(intent['tag'])"
      ],
      "metadata": {
        "id": "LrsV0gMvRaQ6"
      },
      "execution_count": null,
      "outputs": []
    },
    {
      "cell_type": "markdown",
      "source": [
        "The Stemming "
      ],
      "metadata": {
        "id": "BnCM-4mMPl1A"
      }
    },
    {
      "cell_type": "code",
      "source": [
        "pip install PySastrawi"
      ],
      "metadata": {
        "id": "b_aSg_NJI2RV",
        "colab": {
          "base_uri": "https://localhost:8080/"
        },
        "outputId": "b6ddbbf5-3702-414c-83b2-07f852c2b8fe"
      },
      "execution_count": null,
      "outputs": [
        {
          "output_type": "stream",
          "name": "stdout",
          "text": [
            "Looking in indexes: https://pypi.org/simple, https://us-python.pkg.dev/colab-wheels/public/simple/\n",
            "Collecting PySastrawi\n",
            "  Downloading PySastrawi-1.2.0-py2.py3-none-any.whl (210 kB)\n",
            "\u001b[K     |████████████████████████████████| 210 kB 13.7 MB/s \n",
            "\u001b[?25hInstalling collected packages: PySastrawi\n",
            "Successfully installed PySastrawi-1.2.0\n"
          ]
        }
      ]
    },
    {
      "cell_type": "code",
      "source": [
        "\n",
        "# for malay\n",
        "sastrawi = malaya.stem.sastrawi()"
      ],
      "metadata": {
        "id": "CNt8IGf4PcAE"
      },
      "execution_count": null,
      "outputs": []
    },
    {
      "cell_type": "code",
      "source": [
        "# lemmatize each word\n",
        "words = [sastrawi.stem(w.lower()) for w in words if w not in ignore_words]\n",
        "words = sorted(list(set(words)))\n",
        "# sorted labels \n",
        "labels = sorted(list(set(labels)))\n",
        "\n",
        "\n",
        "# docs = combination of patterns and intents\n",
        "print(len(docs),'documents')\n",
        "# labels = intents\n",
        "print(len(labels), 'labels',labels)\n",
        "# words = all words, vocab\n",
        "print(len(words),'unique lemmatized words', words)"
      ],
      "metadata": {
        "colab": {
          "base_uri": "https://localhost:8080/"
        },
        "id": "3kJ6-QIZVXgZ",
        "outputId": "665b78c4-f2da-48c0-86e2-63d136d182aa"
      },
      "execution_count": null,
      "outputs": [
        {
          "output_type": "stream",
          "name": "stdout",
          "text": [
            "173 documents\n",
            "37 labels ['Abdonominal Pain', 'Abrasions', 'Animal bite', 'Bruises', 'Cuts', 'Diarrhea', 'Eye Injury', 'Fracture', 'Gastrointestinal Problems', 'Headache', 'Insect Bites', 'Nasal Congestion', 'Pulled Muscle', 'Rash', 'Skin Problems', 'Snake bite', 'Splinter', 'Sprains', 'Strains', 'Wound', 'age', 'asthma prevention', 'asthma symptoms', 'cold prevention', 'cold symptoms', 'depression prevention', 'depression symptoms', 'diabetes prevention', 'diabetes symptoms', 'error', 'fever prevention', 'fever symptoms', 'goodbye', 'greetings', 'name', 'return', 'stings']\n",
            "167 unique lemmatized words ['ada', 'air', 'ais', 'akan', 'alahan', 'alami', 'ambil', 'amnya', 'anda', 'anjing', 'apa', 'asa', 'asma', 'atau', 'awak', 'badan', 'bagaimana', 'baik', 'bantu', 'batuk', 'bawa', 'beberapa', 'beli', 'berapa', 'berat', 'beritahu', 'bersin', 'biasa', 'bimbang', 'birit', 'boleh', 'buang', 'cakap', 'cao', 'cara', 'cedera', 'cegah', 'cirit', 'dada', 'dapat', 'dari', 'daripada', 'dehidrasi', 'demam', 'dengan', 'derita', 'di', 'diabetes', 'diagnosis', 'elak', 'gas', 'gastrousus', 'gigil', 'gigit', 'gred', 'guna', 'haba', 'hai', 'haiwan', 'harap', 'hari', 'harus', 'haus', 'helo', 'hendak', 'hey', 'hi', 'hidung', 'hilang', 'indah', 'jika', 'jumpa', 'kabur', 'kaedah', 'kamu', 'ke', 'kencing', 'kepala', 'kerap', 'khabar', 'krim', 'kulit', 'kurang', 'lagi', 'laku', 'lama', 'lampau', 'langsung', 'lapar', 'lebam', 'lebih', 'lecet', 'lemah', 'letih', 'lihat', 'luka', 'makan', 'mana', 'masalah', 'mata', 'mati', 'memberitahu', 'minat', 'minum', 'moga', 'mohon', 'monyet', 'muka', 'murung', 'nafas', 'nama', 'oleh', 'otot', 'pada', 'panggil', 'panik', 'parut', 'patah', 'peluh', 'perlu', 'perut', 'potong', 'punya', 'rawat', 'rendah', 'rengsa', 'ringan', 'ruam', 'sakit', 'salam', 'saya', 'sebab', 'sedikit', 'sekat', 'selamat', 'selera', 'selesema', 'selsema', 'sembuh', 'sengat', 'serangga', 'serpih', 'sesak', 'siapa', 'sihat', 'sting', 'sukar', 'sumbat', 'tanpa', 'tarik', 'tegang', 'tekak', 'terap', 'terseliuh', 'tidak', 'tidur', 'tinggal', 'tingkat', 'tinjau', 'tulang', 'ubah', 'ubat', 'ular', 'umum', 'umur', 'untuk', 'yang']\n"
          ]
        },
        {
          "output_type": "stream",
          "name": "stderr",
          "text": [
            "/usr/local/lib/python3.8/dist-packages/malaya/stem.py:55: FutureWarning: Possible nested set at position 3\n",
            "  or re.findall(_expressions['ic'], word.lower())\n"
          ]
        }
      ]
    },
    {
      "cell_type": "code",
      "source": [
        "# save as pickle file\n",
        "pickle.dump(words,open('words2.pkl','wb'))\n",
        "pickle.dump(labels,open('labels2.pkl','wb'))"
      ],
      "metadata": {
        "id": "Vl2Gf2vCVDJQ"
      },
      "execution_count": null,
      "outputs": []
    },
    {
      "cell_type": "markdown",
      "source": [
        "# bag of words in one-hot encoding form\n",
        "frequency\n",
        "\n",
        "```\n",
        "[0,0,0,0,0,0]\n",
        "```\n",
        "\n"
      ],
      "metadata": {
        "id": "pF3oNG8MAh3_"
      }
    },
    {
      "cell_type": "code",
      "source": [
        "# Create training data\n",
        "training = []\n",
        "# create an empty array for output\n",
        "output_empty = [0] * len(labels)\n",
        "\n",
        "# trainning set, bag of words for each sentence\n",
        "for d in docs:\n",
        "  # initialize bag of words\n",
        "  bag=[]\n",
        "  # list of tokenized words for the pattern\n",
        "  pattern_words = d[0]\n",
        "  # lemmatize each word -create base word, in attempt to represent related words\n",
        "  pattern_words = [sastrawi.stem(word.lower()) for word in pattern_words]\n",
        "\n",
        "  # create bag of words array with 1, if word match found in current pattern\n",
        "  for w in words:\n",
        "    bag.append(1) if w in pattern_words else bag.append(0)\n",
        "\n",
        "  # output is a '0' for each tag and '1' for current tag (for each pattern)\n",
        "  output_row = list(output_empty)\n",
        "  output_row[labels.index(d[1])] = 1\n",
        "  training.append([bag, output_row])\n",
        "\n",
        "# shuffle the features and turn into np.array\n",
        "random.shuffle(training)\n",
        "training = np.array(training)\n",
        "\n",
        "# create train and test lists. X--> patterns, Y--> intents\n",
        "train_x = list(training[:,0])\n",
        "train_y = list(training[:,1])\n",
        "print(\"Training data created\")\n"
      ],
      "metadata": {
        "colab": {
          "base_uri": "https://localhost:8080/"
        },
        "id": "KA8MozS--rzo",
        "outputId": "7951f0bc-4016-4866-a399-8e631338f482"
      },
      "execution_count": null,
      "outputs": [
        {
          "output_type": "stream",
          "name": "stdout",
          "text": [
            "Training data created\n"
          ]
        },
        {
          "output_type": "stream",
          "name": "stderr",
          "text": [
            "<ipython-input-18-3ace0aaa6d08>:26: VisibleDeprecationWarning: Creating an ndarray from ragged nested sequences (which is a list-or-tuple of lists-or-tuples-or ndarrays with different lengths or shapes) is deprecated. If you meant to do this, you must specify 'dtype=object' when creating the ndarray.\n",
            "  training = np.array(training)\n"
          ]
        }
      ]
    },
    {
      "cell_type": "markdown",
      "source": [
        "# Modeling"
      ],
      "metadata": {
        "id": "skmp-EV0LqL6"
      }
    },
    {
      "cell_type": "code",
      "source": [
        "# create model --> 3 layers\n",
        "# first layer - 128 neurons\n",
        "# second layer - 64 neurons\n",
        "# third output layer- neurons = number of intents to predict (softmax)\n",
        "\n",
        "model = Sequential()\n",
        "model.add(Dense(128, input_shape=(len(train_x[0]),), activation='relu'))\n",
        "model.add(Dropout(0.5))\n",
        "model.add(Dense(64, activation='relu'))\n",
        "model.add(Dropout(0.5))\n",
        "model.add(Dense(len(train_y[0]), activation='softmax'))\n",
        "\n",
        "# compile model.\n",
        "# Stochastic gradient descent with Nesterov \n",
        "# accelerated gradient gives good results for this model\n",
        "sgd = SGD(lr= 0.01, decay= 1e-6,momentum=0.9, nesterov=True)\n",
        "model.compile(loss='categorical_crossentropy', optimizer=sgd, metrics=['accuracy'])\n",
        "\n",
        "\n",
        "# fitting and saving the model\n",
        "hist= model.fit(np.array(train_x), np.array(train_y), epochs=200, batch_size=5, verbose=1)\n",
        "# model.save('refer_from_online_model.h5', hist)\n",
        "model.save('malay_model_test.h5', hist)\n",
        "\n",
        "print(\"model created\")"
      ],
      "metadata": {
        "colab": {
          "base_uri": "https://localhost:8080/"
        },
        "id": "_9jnsg1OLscn",
        "outputId": "a272017a-3549-471e-d72e-6534b580d00d"
      },
      "execution_count": null,
      "outputs": [
        {
          "output_type": "stream",
          "name": "stdout",
          "text": [
            "Epoch 1/200\n"
          ]
        },
        {
          "output_type": "stream",
          "name": "stderr",
          "text": [
            "/usr/local/lib/python3.8/dist-packages/keras/optimizers/optimizer_v2/gradient_descent.py:108: UserWarning: The `lr` argument is deprecated, use `learning_rate` instead.\n",
            "  super(SGD, self).__init__(name, **kwargs)\n"
          ]
        },
        {
          "output_type": "stream",
          "name": "stdout",
          "text": [
            "35/35 [==============================] - 1s 2ms/step - loss: 3.6249 - accuracy: 0.0231\n",
            "Epoch 2/200\n",
            "35/35 [==============================] - 0s 1ms/step - loss: 3.5453 - accuracy: 0.0405\n",
            "Epoch 3/200\n",
            "35/35 [==============================] - 0s 2ms/step - loss: 3.4934 - accuracy: 0.0462\n",
            "Epoch 4/200\n",
            "35/35 [==============================] - 0s 1ms/step - loss: 3.4296 - accuracy: 0.0925\n",
            "Epoch 5/200\n",
            "35/35 [==============================] - 0s 1ms/step - loss: 3.3430 - accuracy: 0.1503\n",
            "Epoch 6/200\n",
            "35/35 [==============================] - 0s 1ms/step - loss: 3.1681 - accuracy: 0.1676\n",
            "Epoch 7/200\n",
            "35/35 [==============================] - 0s 1ms/step - loss: 3.0355 - accuracy: 0.2254\n",
            "Epoch 8/200\n",
            "35/35 [==============================] - 0s 2ms/step - loss: 2.9089 - accuracy: 0.1908\n",
            "Epoch 9/200\n",
            "35/35 [==============================] - 0s 2ms/step - loss: 2.8075 - accuracy: 0.2370\n",
            "Epoch 10/200\n",
            "35/35 [==============================] - 0s 1ms/step - loss: 2.4913 - accuracy: 0.3121\n",
            "Epoch 11/200\n",
            "35/35 [==============================] - 0s 2ms/step - loss: 2.5297 - accuracy: 0.3006\n",
            "Epoch 12/200\n",
            "35/35 [==============================] - 0s 13ms/step - loss: 2.2564 - accuracy: 0.3353\n",
            "Epoch 13/200\n",
            "35/35 [==============================] - 0s 1ms/step - loss: 2.1651 - accuracy: 0.4104\n",
            "Epoch 14/200\n",
            "35/35 [==============================] - 0s 1ms/step - loss: 2.0535 - accuracy: 0.4451\n",
            "Epoch 15/200\n",
            "35/35 [==============================] - 0s 2ms/step - loss: 1.7230 - accuracy: 0.4798\n",
            "Epoch 16/200\n",
            "35/35 [==============================] - 0s 1ms/step - loss: 1.7708 - accuracy: 0.4798\n",
            "Epoch 17/200\n",
            "35/35 [==============================] - 0s 2ms/step - loss: 1.6627 - accuracy: 0.5145\n",
            "Epoch 18/200\n",
            "35/35 [==============================] - 0s 1ms/step - loss: 1.6206 - accuracy: 0.5434\n",
            "Epoch 19/200\n",
            "35/35 [==============================] - 0s 1ms/step - loss: 1.4583 - accuracy: 0.5665\n",
            "Epoch 20/200\n",
            "35/35 [==============================] - 0s 1ms/step - loss: 1.4612 - accuracy: 0.5838\n",
            "Epoch 21/200\n",
            "35/35 [==============================] - 0s 2ms/step - loss: 1.2870 - accuracy: 0.6358\n",
            "Epoch 22/200\n",
            "35/35 [==============================] - 0s 2ms/step - loss: 1.3382 - accuracy: 0.5665\n",
            "Epoch 23/200\n",
            "35/35 [==============================] - 0s 1ms/step - loss: 1.2621 - accuracy: 0.5838\n",
            "Epoch 24/200\n",
            "35/35 [==============================] - 0s 2ms/step - loss: 1.2245 - accuracy: 0.6243\n",
            "Epoch 25/200\n",
            "35/35 [==============================] - 0s 2ms/step - loss: 1.1447 - accuracy: 0.6705\n",
            "Epoch 26/200\n",
            "35/35 [==============================] - 0s 2ms/step - loss: 1.2347 - accuracy: 0.6301\n",
            "Epoch 27/200\n",
            "35/35 [==============================] - 0s 2ms/step - loss: 1.0857 - accuracy: 0.6821\n",
            "Epoch 28/200\n",
            "35/35 [==============================] - 0s 1ms/step - loss: 0.8937 - accuracy: 0.7514\n",
            "Epoch 29/200\n",
            "35/35 [==============================] - 0s 2ms/step - loss: 1.0495 - accuracy: 0.6647\n",
            "Epoch 30/200\n",
            "35/35 [==============================] - 0s 2ms/step - loss: 0.9692 - accuracy: 0.7283\n",
            "Epoch 31/200\n",
            "35/35 [==============================] - 0s 2ms/step - loss: 0.8725 - accuracy: 0.7225\n",
            "Epoch 32/200\n",
            "35/35 [==============================] - 0s 2ms/step - loss: 0.9090 - accuracy: 0.7457\n",
            "Epoch 33/200\n",
            "35/35 [==============================] - 0s 1ms/step - loss: 0.8057 - accuracy: 0.7630\n",
            "Epoch 34/200\n",
            "35/35 [==============================] - 0s 1ms/step - loss: 0.7718 - accuracy: 0.8035\n",
            "Epoch 35/200\n",
            "35/35 [==============================] - 0s 1ms/step - loss: 0.7473 - accuracy: 0.7688\n",
            "Epoch 36/200\n",
            "35/35 [==============================] - 0s 2ms/step - loss: 0.7506 - accuracy: 0.7630\n",
            "Epoch 37/200\n",
            "35/35 [==============================] - 0s 2ms/step - loss: 0.7314 - accuracy: 0.7861\n",
            "Epoch 38/200\n",
            "35/35 [==============================] - 0s 2ms/step - loss: 0.5849 - accuracy: 0.8671\n",
            "Epoch 39/200\n",
            "35/35 [==============================] - 0s 1ms/step - loss: 0.6202 - accuracy: 0.8439\n",
            "Epoch 40/200\n",
            "35/35 [==============================] - 0s 2ms/step - loss: 0.7208 - accuracy: 0.7746\n",
            "Epoch 41/200\n",
            "35/35 [==============================] - 0s 2ms/step - loss: 0.5727 - accuracy: 0.8497\n",
            "Epoch 42/200\n",
            "35/35 [==============================] - 0s 2ms/step - loss: 0.6058 - accuracy: 0.8208\n",
            "Epoch 43/200\n",
            "35/35 [==============================] - 0s 2ms/step - loss: 0.6438 - accuracy: 0.8035\n",
            "Epoch 44/200\n",
            "35/35 [==============================] - 0s 2ms/step - loss: 0.4718 - accuracy: 0.8555\n",
            "Epoch 45/200\n",
            "35/35 [==============================] - 0s 2ms/step - loss: 0.4440 - accuracy: 0.8613\n",
            "Epoch 46/200\n",
            "35/35 [==============================] - 0s 1ms/step - loss: 0.6243 - accuracy: 0.8150\n",
            "Epoch 47/200\n",
            "35/35 [==============================] - 0s 2ms/step - loss: 0.5193 - accuracy: 0.8497\n",
            "Epoch 48/200\n",
            "35/35 [==============================] - 0s 2ms/step - loss: 0.4998 - accuracy: 0.8786\n",
            "Epoch 49/200\n",
            "35/35 [==============================] - 0s 1ms/step - loss: 0.4633 - accuracy: 0.8728\n",
            "Epoch 50/200\n",
            "35/35 [==============================] - 0s 1ms/step - loss: 0.4702 - accuracy: 0.8613\n",
            "Epoch 51/200\n",
            "35/35 [==============================] - 0s 2ms/step - loss: 0.4451 - accuracy: 0.8671\n",
            "Epoch 52/200\n",
            "35/35 [==============================] - 0s 1ms/step - loss: 0.4430 - accuracy: 0.9133\n",
            "Epoch 53/200\n",
            "35/35 [==============================] - 0s 2ms/step - loss: 0.3999 - accuracy: 0.8902\n",
            "Epoch 54/200\n",
            "35/35 [==============================] - 0s 2ms/step - loss: 0.4662 - accuracy: 0.8671\n",
            "Epoch 55/200\n",
            "35/35 [==============================] - 0s 2ms/step - loss: 0.3656 - accuracy: 0.9017\n",
            "Epoch 56/200\n",
            "35/35 [==============================] - 0s 2ms/step - loss: 0.3875 - accuracy: 0.8844\n",
            "Epoch 57/200\n",
            "35/35 [==============================] - 0s 2ms/step - loss: 0.4078 - accuracy: 0.8728\n",
            "Epoch 58/200\n",
            "35/35 [==============================] - 0s 2ms/step - loss: 0.3450 - accuracy: 0.9017\n",
            "Epoch 59/200\n",
            "35/35 [==============================] - 0s 1ms/step - loss: 0.3875 - accuracy: 0.8728\n",
            "Epoch 60/200\n",
            "35/35 [==============================] - 0s 1ms/step - loss: 0.3959 - accuracy: 0.8844\n",
            "Epoch 61/200\n",
            "35/35 [==============================] - 0s 1ms/step - loss: 0.3389 - accuracy: 0.9017\n",
            "Epoch 62/200\n",
            "35/35 [==============================] - 0s 1ms/step - loss: 0.4190 - accuracy: 0.8844\n",
            "Epoch 63/200\n",
            "35/35 [==============================] - 0s 2ms/step - loss: 0.2815 - accuracy: 0.9133\n",
            "Epoch 64/200\n",
            "35/35 [==============================] - 0s 1ms/step - loss: 0.4012 - accuracy: 0.8671\n",
            "Epoch 65/200\n",
            "35/35 [==============================] - 0s 1ms/step - loss: 0.3642 - accuracy: 0.8613\n",
            "Epoch 66/200\n",
            "35/35 [==============================] - 0s 2ms/step - loss: 0.3955 - accuracy: 0.8728\n",
            "Epoch 67/200\n",
            "35/35 [==============================] - 0s 2ms/step - loss: 0.4100 - accuracy: 0.8613\n",
            "Epoch 68/200\n",
            "35/35 [==============================] - 0s 2ms/step - loss: 0.3149 - accuracy: 0.9017\n",
            "Epoch 69/200\n",
            "35/35 [==============================] - 0s 1ms/step - loss: 0.3507 - accuracy: 0.9133\n",
            "Epoch 70/200\n",
            "35/35 [==============================] - 0s 1ms/step - loss: 0.3236 - accuracy: 0.9364\n",
            "Epoch 71/200\n",
            "35/35 [==============================] - 0s 2ms/step - loss: 0.3094 - accuracy: 0.9306\n",
            "Epoch 72/200\n",
            "35/35 [==============================] - 0s 2ms/step - loss: 0.3365 - accuracy: 0.9075\n",
            "Epoch 73/200\n",
            "35/35 [==============================] - 0s 2ms/step - loss: 0.4908 - accuracy: 0.8439\n",
            "Epoch 74/200\n",
            "35/35 [==============================] - 0s 1ms/step - loss: 0.3134 - accuracy: 0.9133\n",
            "Epoch 75/200\n",
            "35/35 [==============================] - 0s 1ms/step - loss: 0.3310 - accuracy: 0.9017\n",
            "Epoch 76/200\n",
            "35/35 [==============================] - 0s 1ms/step - loss: 0.3359 - accuracy: 0.9017\n",
            "Epoch 77/200\n",
            "35/35 [==============================] - 0s 1ms/step - loss: 0.3524 - accuracy: 0.8902\n",
            "Epoch 78/200\n",
            "35/35 [==============================] - 0s 2ms/step - loss: 0.2111 - accuracy: 0.9306\n",
            "Epoch 79/200\n",
            "35/35 [==============================] - 0s 1ms/step - loss: 0.2590 - accuracy: 0.9422\n",
            "Epoch 80/200\n",
            "35/35 [==============================] - 0s 1ms/step - loss: 0.2739 - accuracy: 0.9075\n",
            "Epoch 81/200\n",
            "35/35 [==============================] - 0s 2ms/step - loss: 0.3034 - accuracy: 0.8786\n",
            "Epoch 82/200\n",
            "35/35 [==============================] - 0s 1ms/step - loss: 0.2379 - accuracy: 0.9249\n",
            "Epoch 83/200\n",
            "35/35 [==============================] - 0s 2ms/step - loss: 0.2706 - accuracy: 0.9133\n",
            "Epoch 84/200\n",
            "35/35 [==============================] - 0s 2ms/step - loss: 0.2149 - accuracy: 0.9538\n",
            "Epoch 85/200\n",
            "35/35 [==============================] - 0s 2ms/step - loss: 0.3026 - accuracy: 0.9133\n",
            "Epoch 86/200\n",
            "35/35 [==============================] - 0s 2ms/step - loss: 0.2209 - accuracy: 0.9480\n",
            "Epoch 87/200\n",
            "35/35 [==============================] - 0s 2ms/step - loss: 0.2438 - accuracy: 0.9422\n",
            "Epoch 88/200\n",
            "35/35 [==============================] - 0s 2ms/step - loss: 0.2162 - accuracy: 0.9306\n",
            "Epoch 89/200\n",
            "35/35 [==============================] - 0s 1ms/step - loss: 0.2898 - accuracy: 0.8960\n",
            "Epoch 90/200\n",
            "35/35 [==============================] - 0s 1ms/step - loss: 0.3291 - accuracy: 0.9017\n",
            "Epoch 91/200\n",
            "35/35 [==============================] - 0s 1ms/step - loss: 0.2419 - accuracy: 0.9191\n",
            "Epoch 92/200\n",
            "35/35 [==============================] - 0s 1ms/step - loss: 0.2556 - accuracy: 0.9249\n",
            "Epoch 93/200\n",
            "35/35 [==============================] - 0s 2ms/step - loss: 0.2243 - accuracy: 0.9306\n",
            "Epoch 94/200\n",
            "35/35 [==============================] - 0s 1ms/step - loss: 0.3081 - accuracy: 0.8960\n",
            "Epoch 95/200\n",
            "35/35 [==============================] - 0s 1ms/step - loss: 0.3287 - accuracy: 0.8613\n",
            "Epoch 96/200\n",
            "35/35 [==============================] - 0s 2ms/step - loss: 0.3079 - accuracy: 0.8902\n",
            "Epoch 97/200\n",
            "35/35 [==============================] - 0s 1ms/step - loss: 0.2813 - accuracy: 0.8960\n",
            "Epoch 98/200\n",
            "35/35 [==============================] - 0s 1ms/step - loss: 0.3441 - accuracy: 0.8902\n",
            "Epoch 99/200\n",
            "35/35 [==============================] - 0s 2ms/step - loss: 0.2716 - accuracy: 0.9133\n",
            "Epoch 100/200\n",
            "35/35 [==============================] - 0s 2ms/step - loss: 0.2516 - accuracy: 0.9075\n",
            "Epoch 101/200\n",
            "35/35 [==============================] - 0s 1ms/step - loss: 0.3519 - accuracy: 0.8902\n",
            "Epoch 102/200\n",
            "35/35 [==============================] - 0s 1ms/step - loss: 0.2627 - accuracy: 0.9191\n",
            "Epoch 103/200\n",
            "35/35 [==============================] - 0s 2ms/step - loss: 0.2434 - accuracy: 0.9191\n",
            "Epoch 104/200\n",
            "35/35 [==============================] - 0s 2ms/step - loss: 0.2131 - accuracy: 0.9364\n",
            "Epoch 105/200\n",
            "35/35 [==============================] - 0s 1ms/step - loss: 0.3171 - accuracy: 0.8844\n",
            "Epoch 106/200\n",
            "35/35 [==============================] - 0s 1ms/step - loss: 0.2370 - accuracy: 0.9306\n",
            "Epoch 107/200\n",
            "35/35 [==============================] - 0s 1ms/step - loss: 0.1680 - accuracy: 0.9480\n",
            "Epoch 108/200\n",
            "35/35 [==============================] - 0s 1ms/step - loss: 0.3163 - accuracy: 0.9133\n",
            "Epoch 109/200\n",
            "35/35 [==============================] - 0s 2ms/step - loss: 0.1471 - accuracy: 0.9538\n",
            "Epoch 110/200\n",
            "35/35 [==============================] - 0s 1ms/step - loss: 0.2559 - accuracy: 0.9133\n",
            "Epoch 111/200\n",
            "35/35 [==============================] - 0s 2ms/step - loss: 0.2350 - accuracy: 0.8960\n",
            "Epoch 112/200\n",
            "35/35 [==============================] - 0s 2ms/step - loss: 0.1939 - accuracy: 0.9364\n",
            "Epoch 113/200\n",
            "35/35 [==============================] - 0s 1ms/step - loss: 0.2087 - accuracy: 0.9422\n",
            "Epoch 114/200\n",
            "35/35 [==============================] - 0s 2ms/step - loss: 0.1698 - accuracy: 0.9480\n",
            "Epoch 115/200\n",
            "35/35 [==============================] - 0s 2ms/step - loss: 0.1505 - accuracy: 0.9364\n",
            "Epoch 116/200\n",
            "35/35 [==============================] - 0s 2ms/step - loss: 0.2093 - accuracy: 0.9306\n",
            "Epoch 117/200\n",
            "35/35 [==============================] - 0s 1ms/step - loss: 0.2192 - accuracy: 0.9191\n",
            "Epoch 118/200\n",
            "35/35 [==============================] - 0s 2ms/step - loss: 0.2662 - accuracy: 0.9249\n",
            "Epoch 119/200\n",
            "35/35 [==============================] - 0s 2ms/step - loss: 0.2215 - accuracy: 0.9480\n",
            "Epoch 120/200\n",
            "35/35 [==============================] - 0s 2ms/step - loss: 0.2130 - accuracy: 0.9191\n",
            "Epoch 121/200\n",
            "35/35 [==============================] - 0s 1ms/step - loss: 0.2307 - accuracy: 0.9249\n",
            "Epoch 122/200\n",
            "35/35 [==============================] - 0s 1ms/step - loss: 0.2841 - accuracy: 0.8960\n",
            "Epoch 123/200\n",
            "35/35 [==============================] - 0s 1ms/step - loss: 0.2558 - accuracy: 0.9191\n",
            "Epoch 124/200\n",
            "35/35 [==============================] - 0s 2ms/step - loss: 0.2430 - accuracy: 0.9133\n",
            "Epoch 125/200\n",
            "35/35 [==============================] - 0s 1ms/step - loss: 0.2864 - accuracy: 0.9249\n",
            "Epoch 126/200\n",
            "35/35 [==============================] - 0s 1ms/step - loss: 0.1818 - accuracy: 0.9364\n",
            "Epoch 127/200\n",
            "35/35 [==============================] - 0s 2ms/step - loss: 0.2284 - accuracy: 0.9364\n",
            "Epoch 128/200\n",
            "35/35 [==============================] - 0s 2ms/step - loss: 0.2251 - accuracy: 0.9249\n",
            "Epoch 129/200\n",
            "35/35 [==============================] - 0s 2ms/step - loss: 0.1678 - accuracy: 0.9480\n",
            "Epoch 130/200\n",
            "35/35 [==============================] - 0s 1ms/step - loss: 0.2475 - accuracy: 0.9191\n",
            "Epoch 131/200\n",
            "35/35 [==============================] - 0s 1ms/step - loss: 0.2515 - accuracy: 0.9249\n",
            "Epoch 132/200\n",
            "35/35 [==============================] - 0s 2ms/step - loss: 0.2381 - accuracy: 0.9133\n",
            "Epoch 133/200\n",
            "35/35 [==============================] - 0s 2ms/step - loss: 0.1867 - accuracy: 0.9364\n",
            "Epoch 134/200\n",
            "35/35 [==============================] - 0s 2ms/step - loss: 0.1950 - accuracy: 0.9364\n",
            "Epoch 135/200\n",
            "35/35 [==============================] - 0s 2ms/step - loss: 0.1780 - accuracy: 0.9480\n",
            "Epoch 136/200\n",
            "35/35 [==============================] - 0s 2ms/step - loss: 0.1310 - accuracy: 0.9538\n",
            "Epoch 137/200\n",
            "35/35 [==============================] - 0s 2ms/step - loss: 0.1769 - accuracy: 0.9538\n",
            "Epoch 138/200\n",
            "35/35 [==============================] - 0s 2ms/step - loss: 0.1769 - accuracy: 0.9364\n",
            "Epoch 139/200\n",
            "35/35 [==============================] - 0s 2ms/step - loss: 0.2013 - accuracy: 0.9480\n",
            "Epoch 140/200\n",
            "35/35 [==============================] - 0s 2ms/step - loss: 0.1281 - accuracy: 0.9595\n",
            "Epoch 141/200\n",
            "35/35 [==============================] - 0s 2ms/step - loss: 0.2272 - accuracy: 0.9364\n",
            "Epoch 142/200\n",
            "35/35 [==============================] - 0s 2ms/step - loss: 0.2005 - accuracy: 0.9364\n",
            "Epoch 143/200\n",
            "35/35 [==============================] - 0s 1ms/step - loss: 0.1910 - accuracy: 0.9480\n",
            "Epoch 144/200\n",
            "35/35 [==============================] - 0s 2ms/step - loss: 0.1632 - accuracy: 0.9422\n",
            "Epoch 145/200\n",
            "35/35 [==============================] - 0s 1ms/step - loss: 0.2030 - accuracy: 0.9595\n",
            "Epoch 146/200\n",
            "35/35 [==============================] - 0s 2ms/step - loss: 0.1473 - accuracy: 0.9480\n",
            "Epoch 147/200\n",
            "35/35 [==============================] - 0s 2ms/step - loss: 0.1326 - accuracy: 0.9595\n",
            "Epoch 148/200\n",
            "35/35 [==============================] - 0s 2ms/step - loss: 0.1941 - accuracy: 0.9364\n",
            "Epoch 149/200\n",
            "35/35 [==============================] - 0s 2ms/step - loss: 0.2597 - accuracy: 0.9249\n",
            "Epoch 150/200\n",
            "35/35 [==============================] - 0s 2ms/step - loss: 0.1947 - accuracy: 0.9364\n",
            "Epoch 151/200\n",
            "35/35 [==============================] - 0s 2ms/step - loss: 0.1590 - accuracy: 0.9480\n",
            "Epoch 152/200\n",
            "35/35 [==============================] - 0s 2ms/step - loss: 0.1850 - accuracy: 0.9422\n",
            "Epoch 153/200\n",
            "35/35 [==============================] - 0s 2ms/step - loss: 0.2226 - accuracy: 0.9306\n",
            "Epoch 154/200\n",
            "35/35 [==============================] - 0s 2ms/step - loss: 0.2072 - accuracy: 0.9422\n",
            "Epoch 155/200\n",
            "35/35 [==============================] - 0s 2ms/step - loss: 0.1913 - accuracy: 0.9422\n",
            "Epoch 156/200\n",
            "35/35 [==============================] - 0s 2ms/step - loss: 0.1410 - accuracy: 0.9422\n",
            "Epoch 157/200\n",
            "35/35 [==============================] - 0s 2ms/step - loss: 0.1910 - accuracy: 0.9191\n",
            "Epoch 158/200\n",
            "35/35 [==============================] - 0s 2ms/step - loss: 0.1157 - accuracy: 0.9711\n",
            "Epoch 159/200\n",
            "35/35 [==============================] - 0s 1ms/step - loss: 0.2100 - accuracy: 0.9306\n",
            "Epoch 160/200\n",
            "35/35 [==============================] - 0s 2ms/step - loss: 0.2325 - accuracy: 0.9191\n",
            "Epoch 161/200\n",
            "35/35 [==============================] - 0s 2ms/step - loss: 0.2226 - accuracy: 0.9306\n",
            "Epoch 162/200\n",
            "35/35 [==============================] - 0s 2ms/step - loss: 0.1878 - accuracy: 0.9422\n",
            "Epoch 163/200\n",
            "35/35 [==============================] - 0s 2ms/step - loss: 0.1471 - accuracy: 0.9422\n",
            "Epoch 164/200\n",
            "35/35 [==============================] - 0s 1ms/step - loss: 0.1572 - accuracy: 0.9480\n",
            "Epoch 165/200\n",
            "35/35 [==============================] - 0s 2ms/step - loss: 0.1991 - accuracy: 0.9480\n",
            "Epoch 166/200\n",
            "35/35 [==============================] - 0s 2ms/step - loss: 0.2028 - accuracy: 0.9538\n",
            "Epoch 167/200\n",
            "35/35 [==============================] - 0s 1ms/step - loss: 0.1561 - accuracy: 0.9306\n",
            "Epoch 168/200\n",
            "35/35 [==============================] - 0s 1ms/step - loss: 0.1587 - accuracy: 0.9422\n",
            "Epoch 169/200\n",
            "35/35 [==============================] - 0s 1ms/step - loss: 0.2045 - accuracy: 0.9306\n",
            "Epoch 170/200\n",
            "35/35 [==============================] - 0s 1ms/step - loss: 0.1552 - accuracy: 0.9538\n",
            "Epoch 171/200\n",
            "35/35 [==============================] - 0s 1ms/step - loss: 0.1400 - accuracy: 0.9422\n",
            "Epoch 172/200\n",
            "35/35 [==============================] - 0s 1ms/step - loss: 0.1434 - accuracy: 0.9538\n",
            "Epoch 173/200\n",
            "35/35 [==============================] - 0s 2ms/step - loss: 0.1691 - accuracy: 0.9306\n",
            "Epoch 174/200\n",
            "35/35 [==============================] - 0s 2ms/step - loss: 0.1487 - accuracy: 0.9364\n",
            "Epoch 175/200\n",
            "35/35 [==============================] - 0s 2ms/step - loss: 0.1439 - accuracy: 0.9538\n",
            "Epoch 176/200\n",
            "35/35 [==============================] - 0s 1ms/step - loss: 0.0943 - accuracy: 0.9769\n",
            "Epoch 177/200\n",
            "35/35 [==============================] - 0s 1ms/step - loss: 0.1181 - accuracy: 0.9769\n",
            "Epoch 178/200\n",
            "35/35 [==============================] - 0s 2ms/step - loss: 0.1297 - accuracy: 0.9595\n",
            "Epoch 179/200\n",
            "35/35 [==============================] - 0s 2ms/step - loss: 0.1437 - accuracy: 0.9538\n",
            "Epoch 180/200\n",
            "35/35 [==============================] - 0s 2ms/step - loss: 0.1829 - accuracy: 0.9191\n",
            "Epoch 181/200\n",
            "35/35 [==============================] - 0s 3ms/step - loss: 0.1305 - accuracy: 0.9422\n",
            "Epoch 182/200\n",
            "35/35 [==============================] - 0s 2ms/step - loss: 0.1555 - accuracy: 0.9364\n",
            "Epoch 183/200\n",
            "35/35 [==============================] - 0s 2ms/step - loss: 0.1403 - accuracy: 0.9653\n",
            "Epoch 184/200\n",
            "35/35 [==============================] - 0s 1ms/step - loss: 0.1097 - accuracy: 0.9653\n",
            "Epoch 185/200\n",
            "35/35 [==============================] - 0s 1ms/step - loss: 0.1404 - accuracy: 0.9538\n",
            "Epoch 186/200\n",
            "35/35 [==============================] - 0s 1ms/step - loss: 0.2229 - accuracy: 0.9133\n",
            "Epoch 187/200\n",
            "35/35 [==============================] - 0s 2ms/step - loss: 0.1245 - accuracy: 0.9538\n",
            "Epoch 188/200\n",
            "35/35 [==============================] - 0s 1ms/step - loss: 0.1285 - accuracy: 0.9538\n",
            "Epoch 189/200\n",
            "35/35 [==============================] - 0s 2ms/step - loss: 0.1574 - accuracy: 0.9364\n",
            "Epoch 190/200\n",
            "35/35 [==============================] - 0s 1ms/step - loss: 0.1065 - accuracy: 0.9769\n",
            "Epoch 191/200\n",
            "35/35 [==============================] - 0s 2ms/step - loss: 0.1771 - accuracy: 0.9422\n",
            "Epoch 192/200\n",
            "35/35 [==============================] - 0s 2ms/step - loss: 0.1797 - accuracy: 0.9306\n",
            "Epoch 193/200\n",
            "35/35 [==============================] - 0s 2ms/step - loss: 0.1286 - accuracy: 0.9422\n",
            "Epoch 194/200\n",
            "35/35 [==============================] - 0s 2ms/step - loss: 0.1348 - accuracy: 0.9480\n",
            "Epoch 195/200\n",
            "35/35 [==============================] - 0s 2ms/step - loss: 0.2391 - accuracy: 0.9364\n",
            "Epoch 196/200\n",
            "35/35 [==============================] - 0s 1ms/step - loss: 0.1553 - accuracy: 0.9595\n",
            "Epoch 197/200\n",
            "35/35 [==============================] - 0s 2ms/step - loss: 0.1348 - accuracy: 0.9711\n",
            "Epoch 198/200\n",
            "35/35 [==============================] - 0s 2ms/step - loss: 0.0845 - accuracy: 0.9769\n",
            "Epoch 199/200\n",
            "35/35 [==============================] - 0s 1ms/step - loss: 0.2261 - accuracy: 0.9249\n",
            "Epoch 200/200\n",
            "35/35 [==============================] - 0s 2ms/step - loss: 0.1388 - accuracy: 0.9595\n",
            "model created\n"
          ]
        }
      ]
    },
    {
      "cell_type": "code",
      "source": [
        "\n"
      ],
      "metadata": {
        "id": "LYxxPQ1DLsoy"
      },
      "execution_count": null,
      "outputs": []
    },
    {
      "cell_type": "code",
      "source": [],
      "metadata": {
        "id": "V8tQ5u2Mxd-D"
      },
      "execution_count": null,
      "outputs": []
    }
  ]
}