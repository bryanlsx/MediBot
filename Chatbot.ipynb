{
 "cells": [
  {
   "cell_type": "markdown",
   "id": "3b744096",
   "metadata": {},
   "source": [
    "# Chatbot"
   ]
  },
  {
   "cell_type": "markdown",
   "id": "237add6a",
   "metadata": {},
   "source": [
    "## Download and import library"
   ]
  },
  {
   "cell_type": "code",
   "execution_count": 1,
   "id": "e103a11a",
   "metadata": {
    "collapsed": true
   },
   "outputs": [
    {
     "name": "stdout",
     "output_type": "stream",
     "text": [
      "Requirement already satisfied: malaya in c:\\users\\user\\anaconda3\\lib\\site-packages (4.9.2)\n",
      "Requirement already satisfied: herpetologist in c:\\users\\user\\anaconda3\\lib\\site-packages (from malaya) (0.0.9)\n",
      "Requirement already satisfied: scikit-learn in c:\\users\\user\\anaconda3\\lib\\site-packages (from malaya) (0.24.1)\n",
      "Requirement already satisfied: dateparser in c:\\users\\user\\anaconda3\\lib\\site-packages (from malaya) (1.1.4)\n",
      "Requirement already satisfied: unidecode in c:\\users\\user\\anaconda3\\lib\\site-packages (from malaya) (1.3.6)\n",
      "Requirement already satisfied: sentencepiece in c:\\users\\user\\anaconda3\\lib\\site-packages (from malaya) (0.1.97)\n",
      "Requirement already satisfied: tqdm in c:\\users\\user\\anaconda3\\lib\\site-packages (from malaya) (4.59.0)\n",
      "Requirement already satisfied: transformers in c:\\users\\user\\anaconda3\\lib\\site-packages (from malaya) (4.24.0)\n",
      "Requirement already satisfied: numpy in c:\\users\\user\\anaconda3\\lib\\site-packages (from malaya) (1.22.4)\n",
      "Requirement already satisfied: malaya-boilerplate>=0.0.23 in c:\\users\\user\\anaconda3\\lib\\site-packages (from malaya) (0.0.23)\n",
      "Requirement already satisfied: ftfy in c:\\users\\user\\anaconda3\\lib\\site-packages (from malaya) (6.1.1)\n",
      "Requirement already satisfied: requests in c:\\users\\user\\anaconda3\\lib\\site-packages (from malaya) (2.28.1)\n",
      "Requirement already satisfied: scipy in c:\\users\\user\\anaconda3\\lib\\site-packages (from malaya) (1.6.2)\n",
      "Requirement already satisfied: regex in c:\\users\\user\\anaconda3\\lib\\site-packages (from malaya) (2021.4.4)\n",
      "Requirement already satisfied: networkx<=2.5.1 in c:\\users\\user\\anaconda3\\lib\\site-packages (from malaya) (2.5)\n",
      "Requirement already satisfied: huggingface-hub in c:\\users\\user\\anaconda3\\lib\\site-packages (from malaya-boilerplate>=0.0.23->malaya) (0.11.1)\n",
      "Requirement already satisfied: decorator>=4.3.0 in c:\\users\\user\\anaconda3\\lib\\site-packages (from networkx<=2.5.1->malaya) (5.0.6)\n",
      "Requirement already satisfied: pytz in c:\\users\\user\\anaconda3\\lib\\site-packages (from dateparser->malaya) (2021.1)\n",
      "Requirement already satisfied: python-dateutil in c:\\users\\user\\anaconda3\\lib\\site-packages (from dateparser->malaya) (2.8.1)\n",
      "Requirement already satisfied: tzlocal in c:\\users\\user\\anaconda3\\lib\\site-packages (from dateparser->malaya) (4.2)\n",
      "Requirement already satisfied: wcwidth>=0.2.5 in c:\\users\\user\\anaconda3\\lib\\site-packages (from ftfy->malaya) (0.2.5)\n",
      "Requirement already satisfied: memoization in c:\\users\\user\\anaconda3\\lib\\site-packages (from herpetologist->malaya) (0.4.0)\n",
      "Requirement already satisfied: packaging>=20.9 in c:\\users\\user\\anaconda3\\lib\\site-packages (from huggingface-hub->malaya-boilerplate>=0.0.23->malaya) (21.3)\n",
      "Requirement already satisfied: filelock in c:\\users\\user\\anaconda3\\lib\\site-packages (from huggingface-hub->malaya-boilerplate>=0.0.23->malaya) (3.0.12)\n",
      "Requirement already satisfied: pyyaml>=5.1 in c:\\users\\user\\anaconda3\\lib\\site-packages (from huggingface-hub->malaya-boilerplate>=0.0.23->malaya) (5.4.1)\n",
      "Requirement already satisfied: typing-extensions>=3.7.4.3 in c:\\users\\user\\anaconda3\\lib\\site-packages (from huggingface-hub->malaya-boilerplate>=0.0.23->malaya) (3.7.4.3)\n",
      "Requirement already satisfied: pyparsing!=3.0.5,>=2.0.2 in c:\\users\\user\\anaconda3\\lib\\site-packages (from packaging>=20.9->huggingface-hub->malaya-boilerplate>=0.0.23->malaya) (2.4.7)\n",
      "Requirement already satisfied: six>=1.5 in c:\\users\\user\\anaconda3\\lib\\site-packages (from python-dateutil->dateparser->malaya) (1.15.0)\n",
      "Requirement already satisfied: idna<4,>=2.5 in c:\\users\\user\\anaconda3\\lib\\site-packages (from requests->malaya) (2.10)\n",
      "Requirement already satisfied: certifi>=2017.4.17 in c:\\users\\user\\anaconda3\\lib\\site-packages (from requests->malaya) (2020.12.5)\n",
      "Requirement already satisfied: charset-normalizer<3,>=2 in c:\\users\\user\\anaconda3\\lib\\site-packages (from requests->malaya) (2.1.1)\n",
      "Requirement already satisfied: urllib3<1.27,>=1.21.1 in c:\\users\\user\\anaconda3\\lib\\site-packages (from requests->malaya) (1.26.4)\n",
      "Requirement already satisfied: joblib>=0.11 in c:\\users\\user\\anaconda3\\lib\\site-packages (from scikit-learn->malaya) (1.0.1)\n",
      "Requirement already satisfied: threadpoolctl>=2.0.0 in c:\\users\\user\\anaconda3\\lib\\site-packages (from scikit-learn->malaya) (2.1.0)\n",
      "Requirement already satisfied: tokenizers!=0.11.3,<0.14,>=0.11.1 in c:\\users\\user\\anaconda3\\lib\\site-packages (from transformers->malaya) (0.13.2)\n",
      "Requirement already satisfied: pytz-deprecation-shim in c:\\users\\user\\anaconda3\\lib\\site-packages (from tzlocal->dateparser->malaya) (0.1.0.post0)\n",
      "Requirement already satisfied: backports.zoneinfo in c:\\users\\user\\anaconda3\\lib\\site-packages (from tzlocal->dateparser->malaya) (0.2.1)\n",
      "Requirement already satisfied: tzdata in c:\\users\\user\\anaconda3\\lib\\site-packages (from tzlocal->dateparser->malaya) (2022.7)\n"
     ]
    }
   ],
   "source": [
    "!pip install malaya"
   ]
  },
  {
   "cell_type": "code",
   "execution_count": 7,
   "id": "659468cf",
   "metadata": {
    "collapsed": true
   },
   "outputs": [
    {
     "name": "stdout",
     "output_type": "stream",
     "text": [
      "Collecting pytorch\n",
      "  Downloading pytorch-1.0.2.tar.gz (689 bytes)\n",
      "Building wheels for collected packages: pytorch\n",
      "  Building wheel for pytorch (setup.py): started\n",
      "  Building wheel for pytorch (setup.py): finished with status 'error'\n",
      "  Running setup.py clean for pytorch\n",
      "Failed to build pytorch\n",
      "Installing collected packages: pytorch\n",
      "    Running setup.py install for pytorch: started\n",
      "    Running setup.py install for pytorch: finished with status 'error'\n"
     ]
    },
    {
     "name": "stderr",
     "output_type": "stream",
     "text": [
      "  ERROR: Command errored out with exit status 1:\n",
      "   command: 'C:\\Users\\User\\anaconda3\\python.exe' -u -c 'import sys, setuptools, tokenize; sys.argv[0] = '\"'\"'C:\\\\Users\\\\User\\\\AppData\\\\Local\\\\Temp\\\\pip-install-r4oxm51u\\\\pytorch_b043495d5aeb4751acf416b864b25966\\\\setup.py'\"'\"'; __file__='\"'\"'C:\\\\Users\\\\User\\\\AppData\\\\Local\\\\Temp\\\\pip-install-r4oxm51u\\\\pytorch_b043495d5aeb4751acf416b864b25966\\\\setup.py'\"'\"';f=getattr(tokenize, '\"'\"'open'\"'\"', open)(__file__);code=f.read().replace('\"'\"'\\r\\n'\"'\"', '\"'\"'\\n'\"'\"');f.close();exec(compile(code, __file__, '\"'\"'exec'\"'\"'))' bdist_wheel -d 'C:\\Users\\User\\AppData\\Local\\Temp\\pip-wheel-zvwexhl1'\n",
      "       cwd: C:\\Users\\User\\AppData\\Local\\Temp\\pip-install-r4oxm51u\\pytorch_b043495d5aeb4751acf416b864b25966\\\n",
      "  Complete output (5 lines):\n",
      "  Traceback (most recent call last):\n",
      "    File \"<string>\", line 1, in <module>\n",
      "    File \"C:\\Users\\User\\AppData\\Local\\Temp\\pip-install-r4oxm51u\\pytorch_b043495d5aeb4751acf416b864b25966\\setup.py\", line 15, in <module>\n",
      "      raise Exception(message)\n",
      "  Exception: You tried to install \"pytorch\". The package named for PyTorch is \"torch\"\n",
      "  ----------------------------------------\n",
      "  ERROR: Failed building wheel for pytorch\n",
      "    ERROR: Command errored out with exit status 1:\n",
      "     command: 'C:\\Users\\User\\anaconda3\\python.exe' -u -c 'import sys, setuptools, tokenize; sys.argv[0] = '\"'\"'C:\\\\Users\\\\User\\\\AppData\\\\Local\\\\Temp\\\\pip-install-r4oxm51u\\\\pytorch_b043495d5aeb4751acf416b864b25966\\\\setup.py'\"'\"'; __file__='\"'\"'C:\\\\Users\\\\User\\\\AppData\\\\Local\\\\Temp\\\\pip-install-r4oxm51u\\\\pytorch_b043495d5aeb4751acf416b864b25966\\\\setup.py'\"'\"';f=getattr(tokenize, '\"'\"'open'\"'\"', open)(__file__);code=f.read().replace('\"'\"'\\r\\n'\"'\"', '\"'\"'\\n'\"'\"');f.close();exec(compile(code, __file__, '\"'\"'exec'\"'\"'))' install --record 'C:\\Users\\User\\AppData\\Local\\Temp\\pip-record-lfnqypcf\\install-record.txt' --single-version-externally-managed --compile --install-headers 'C:\\Users\\User\\anaconda3\\Include\\pytorch'\n",
      "         cwd: C:\\Users\\User\\AppData\\Local\\Temp\\pip-install-r4oxm51u\\pytorch_b043495d5aeb4751acf416b864b25966\\\n",
      "    Complete output (5 lines):\n",
      "    Traceback (most recent call last):\n",
      "      File \"<string>\", line 1, in <module>\n",
      "      File \"C:\\Users\\User\\AppData\\Local\\Temp\\pip-install-r4oxm51u\\pytorch_b043495d5aeb4751acf416b864b25966\\setup.py\", line 11, in <module>\n",
      "        raise Exception(message)\n",
      "    Exception: You tried to install \"pytorch\". The package named for PyTorch is \"torch\"\n",
      "    ----------------------------------------\n",
      "ERROR: Command errored out with exit status 1: 'C:\\Users\\User\\anaconda3\\python.exe' -u -c 'import sys, setuptools, tokenize; sys.argv[0] = '\"'\"'C:\\\\Users\\\\User\\\\AppData\\\\Local\\\\Temp\\\\pip-install-r4oxm51u\\\\pytorch_b043495d5aeb4751acf416b864b25966\\\\setup.py'\"'\"'; __file__='\"'\"'C:\\\\Users\\\\User\\\\AppData\\\\Local\\\\Temp\\\\pip-install-r4oxm51u\\\\pytorch_b043495d5aeb4751acf416b864b25966\\\\setup.py'\"'\"';f=getattr(tokenize, '\"'\"'open'\"'\"', open)(__file__);code=f.read().replace('\"'\"'\\r\\n'\"'\"', '\"'\"'\\n'\"'\"');f.close();exec(compile(code, __file__, '\"'\"'exec'\"'\"'))' install --record 'C:\\Users\\User\\AppData\\Local\\Temp\\pip-record-lfnqypcf\\install-record.txt' --single-version-externally-managed --compile --install-headers 'C:\\Users\\User\\anaconda3\\Include\\pytorch' Check the logs for full command output.\n"
     ]
    }
   ],
   "source": [
    "!pip install pytorch"
   ]
  },
  {
   "cell_type": "code",
   "execution_count": 10,
   "id": "2741f404",
   "metadata": {
    "collapsed": true
   },
   "outputs": [
    {
     "name": "stdout",
     "output_type": "stream",
     "text": [
      "Collecting PySastrawi\n",
      "  Using cached PySastrawi-1.2.0-py2.py3-none-any.whl (210 kB)\n",
      "Installing collected packages: PySastrawi\n",
      "Successfully installed PySastrawi-1.2.0\n"
     ]
    }
   ],
   "source": [
    "!pip install PySastrawi"
   ]
  },
  {
   "cell_type": "code",
   "execution_count": 25,
   "id": "f873d6a0",
   "metadata": {
    "collapsed": true
   },
   "outputs": [
    {
     "name": "stdout",
     "output_type": "stream",
     "text": [
      "Collecting Spylls\n",
      "  Downloading spylls-0.1.7-py2.py3-none-any.whl (1.5 MB)\n",
      "Installing collected packages: Spylls\n",
      "Successfully installed Spylls-0.1.7\n"
     ]
    }
   ],
   "source": [
    "!pip install Spylls"
   ]
  },
  {
   "cell_type": "code",
   "execution_count": 1,
   "id": "dd93e08f",
   "metadata": {},
   "outputs": [],
   "source": [
    "#!pip install nltk\n",
    "#!pip install keras\n",
    "#!pip install tensorflow\n",
    "#!pip install speechrecognition\n",
    "#!pip install -U nltk"
   ]
  },
  {
   "cell_type": "code",
   "execution_count": 1,
   "id": "e4896a37",
   "metadata": {
    "scrolled": true
   },
   "outputs": [
    {
     "name": "stderr",
     "output_type": "stream",
     "text": [
      "C:\\Users\\User\\anaconda3\\lib\\site-packages\\malaya_boilerplate\\frozen_graph.py:35: UserWarning: Cannot import beam_search_ops from Tensorflow Addons, ['malaya.jawi_rumi.deep_model', 'malaya.phoneme.deep_model', 'malaya.rumi_jawi.deep_model', 'malaya.stem.deep_model'] will not available to use, make sure Tensorflow Addons version >= 0.12.0\n",
      "  warnings.warn(\n",
      "C:\\Users\\User\\anaconda3\\lib\\site-packages\\malaya_boilerplate\\frozen_graph.py:38: UserWarning: check compatible Tensorflow version with Tensorflow Addons at https://github.com/tensorflow/addons/releases\n",
      "  warnings.warn(\n",
      "C:\\Users\\User\\anaconda3\\lib\\site-packages\\malaya\\tokenizer.py:202: FutureWarning: Possible nested set at position 3361\n",
      "  self.tok = re.compile(r'({})'.format('|'.join(pipeline)))\n",
      "C:\\Users\\User\\anaconda3\\lib\\site-packages\\malaya\\tokenizer.py:202: FutureWarning: Possible nested set at position 3879\n",
      "  self.tok = re.compile(r'({})'.format('|'.join(pipeline)))\n"
     ]
    }
   ],
   "source": [
    "import malaya\n",
    "import nltk\n",
    "import pickle\n",
    "import numpy as np\n",
    "import json\n",
    "import random\n",
    "import speech_recognition as sr"
   ]
  },
  {
   "cell_type": "code",
   "execution_count": 2,
   "id": "558af19c",
   "metadata": {},
   "outputs": [],
   "source": [
    "from nltk.stem import WordNetLemmatizer\n",
    "from keras.models import load_model"
   ]
  },
  {
   "cell_type": "code",
   "execution_count": 3,
   "id": "d6e3cef9",
   "metadata": {},
   "outputs": [],
   "source": [
    "# lemmatizer = WordNetLemmatizer()\n",
    "# for malay\n",
    "sastrawi = malaya.stem.sastrawi()\n",
    "model = load_model('malay_model_test.h5')\n",
    "intents = json.loads(open('intents3.json').read())\n",
    "words = pickle.load(open('words2.pkl','rb'))\n",
    "labels = pickle.load(open('labels2.pkl','rb'))\n",
    "# stopwords = json.loads(open('malay_stopwords.json').read())"
   ]
  },
  {
   "cell_type": "markdown",
   "id": "58e8b7fc",
   "metadata": {},
   "source": [
    "## Preprocessing Data"
   ]
  },
  {
   "cell_type": "code",
   "execution_count": 4,
   "id": "f7319ce8",
   "metadata": {},
   "outputs": [],
   "source": [
    "def clean_up_sentence(sentence):\n",
    "#     spell check\n",
    "    spelling_model = malaya.spelling_correction.spylls.load()\n",
    "    sentence_words = spelling_model.correct_text(sentence)\n",
    "    #tokenize the pattern\n",
    "    tokenizer = malaya.tokenizer.Tokenizer()\n",
    "    sentence_words = tokenizer.tokenize(sentence_words)\n",
    "    \n",
    "#     sentence_words = nltk.word_tokenize(sentence)\n",
    "    #lemmatize - create short form\n",
    "    sentence_words = [sastrawi.stem(word.lower()) for word in sentence_words]\n",
    "#     print(sentence_words)\n",
    "    return sentence_words"
   ]
  },
  {
   "cell_type": "markdown",
   "id": "b344fda8",
   "metadata": {},
   "source": [
    "## Bag of words array : 0 to 1 for each word in the bag that exists"
   ]
  },
  {
   "cell_type": "code",
   "execution_count": 5,
   "id": "7d3db7b1",
   "metadata": {},
   "outputs": [],
   "source": [
    "def bow(sentence, words, show_details= True):\n",
    "    # tokenize pattern\n",
    "    sentence_words = clean_up_sentence(sentence)\n",
    "    # bow : matrix of N words, vocab matrix\n",
    "    bag = [0]* len(words)\n",
    "    for s in sentence_words:\n",
    "        for i,w in enumerate(words):\n",
    "            if w == s:\n",
    "                # assign 1 if current word is in the vocab position\n",
    "                bag[i] = 1\n",
    "                if show_details:\n",
    "                    print(\"found in bag: %s\" % w)\n",
    "    \n",
    "    return(np.array(bag))"
   ]
  },
  {
   "cell_type": "markdown",
   "id": "a2c10981",
   "metadata": {},
   "source": [
    "## Speech to text"
   ]
  },
  {
   "cell_type": "code",
   "execution_count": 6,
   "id": "8174fe0a",
   "metadata": {},
   "outputs": [],
   "source": [
    "def stt():\n",
    "    r = sr.Recognizer()\n",
    "    with sr.Microphone() as source:\n",
    "        #remove ambient noise\n",
    "        r.adjust_for_ambient_noise(source)\n",
    "        # read the audio data from the default microphone\n",
    "        audio_data = r.listen(source)\n",
    "        # print(\"Recognizing...\")\n",
    "        # convert speech to text\n",
    "        text = r.recognize_google(audio_data, language=\"ms-MY\")\n",
    "        print(f\"\\nAnda: {text}\\n\")\n",
    "        return text\n",
    "        # print(text)"
   ]
  },
  {
   "cell_type": "markdown",
   "id": "19c2c35d",
   "metadata": {},
   "source": [
    "## Response"
   ]
  },
  {
   "cell_type": "code",
   "execution_count": 10,
   "id": "47d6c4a7",
   "metadata": {},
   "outputs": [],
   "source": [
    "def predict_label():\n",
    "#     default tag list for tracking user's intents\n",
    "    tag_list=['default']\n",
    "#     initiating the chatbot\n",
    "#     welcoming message\n",
    "    print(\"\\nHi, selamat datang ke Farmasi NLP!\\n1. Taip 'mic'--untuk guna mic\\n2. Masukkan simptom\\n3. Pertanyaan tentang pencegahan penyakit\\n4. Taip 'balik' untuk mula semula\\n5. Taip 'keluar'--tamat chatbot\\n\")\n",
    "    while True:\n",
    "#       user's input\n",
    "        inp = input(\"Anda: \")\n",
    "#       exit function\n",
    "        if inp.lower()==\"keluar\":\n",
    "            print(\"\\nMediBot: Jumpa lagi\\n\")\n",
    "            break\n",
    "#       speech to text initiating microphone\n",
    "        elif inp.lower() == \"mic\":\n",
    "            print(\"\\nMediBot: Teruskan, aku dengar dengan jelas\\n\")\n",
    "            inp = stt()\n",
    "            if inp.lower() =='keluar':\n",
    "                print(\"\\nMediBot: Jumpa lagi\\n\")\n",
    "                break\n",
    "#       predicting labels 'tag'\n",
    "        results = model.predict(np.array([bow(inp, words, show_details= False)]))[0]\n",
    "        results_index = np.argmax(results) \n",
    "        tag = labels[results_index]\n",
    "        tag_list.append(tag)  \n",
    "#         print(results[results_index])\n",
    "        if len(tag_list) > 2:\n",
    "            tag_list=tag_list[2:]\n",
    "#       follow-up asking function\n",
    "        if inp.lower() in ['y']:\n",
    "#             print(tag)\n",
    "#             print(tag_list)\n",
    "            if tag_list == ['default','error']:\n",
    "                results[results_index] =0.0\n",
    "                tag_list =['default', 'error']\n",
    "            else:\n",
    "                tag = tag_list[0].replace('symptoms','prevention')\n",
    "                results[results_index] =0.8\n",
    "                tag_list = ['default', tag]\n",
    "#                 print(tag)\n",
    "#                 print(tag_list)\n",
    "        elif inp.lower() in ['t']:\n",
    "            if tag_list == ['default','error']:\n",
    "                results[results_index] =0.0\n",
    "                tag_list =['default', 'error']\n",
    "            else:\n",
    "                tag = 'goodbye'\n",
    "                results[results_index] =0.8\n",
    "                tag_list = ['default', tag]\n",
    "#       return to menu function      \n",
    "        elif inp.lower() == \"balik\":\n",
    "            tag = 'return'\n",
    "            results[results_index] =0.8\n",
    "            tag_list = ['default']\n",
    "\n",
    "            \n",
    "#       accuracy threshold    \n",
    "        if results[results_index] > 0.7:\n",
    "            for tg in intents['intents']:\n",
    "                if tg['tag'] == tag:\n",
    "                    responses = tg['responses']\n",
    "                    tag_list.append(tag)\n",
    "            print(f\"\\nMediBot: {random.choice(responses)}\\n\")\n",
    "\n",
    "        else:\n",
    "#           error detection\n",
    "            print(f\"\\nMediBot: Maaf, saya tidak faham. adakah anda bermaksud untuk mengatakan {clean_up_sentence(inp.lower())}? sila taip 'y' untuk ya atau 't' untuk tidak\\n\")\n",
    "#             print(tag_list)\n",
    "#           initiating input and mic\n",
    "            inp = input(\"Anda: \")\n",
    "            if inp.lower()==\"keluar\":\n",
    "                print(\"\\nMediBot: Jumpa lagi\\n\")\n",
    "                break\n",
    "            elif inp.lower() == \"mic\":\n",
    "                print(\"\\nMediBot: Teruskan, aku dengar dengan jelas\\n\")\n",
    "                inp = stt()\n",
    "                if inp.lower() =='keluar':\n",
    "                    print(\"\\nMediBot: Jumpa lagi\\n\")\n",
    "                    break\n",
    "            elif inp.lower() in ['y']:\n",
    "#                 print(tag)\n",
    "                for tg in intents['intents']:\n",
    "                    if tg['tag'] == tag:\n",
    "                        responses = tg['responses']\n",
    "                print(f\"\\nMediBot: {random.choice(responses)}\\n\")\n",
    "                tag=tag_list[1]\n",
    "                tag_list.append(tag)\n",
    "                \n",
    "            elif inp.lower() in ['t']:\n",
    "                tag_list=['default']\n",
    "                print(\"\\nHi, selamat datang ke Farmasi NLP!\\n1. Taip 'mic'--untuk guna mic\\n2. Masukkan simptom\\n3. Pertanyaan tentang pencegahan penyakit\\n4. Taip 'balik' untuk mula semula\\n5. Taip 'keluar'--tamat chatbot\\n\")\n",
    "            else:\n",
    "                tag='error'\n",
    "                for tg in intents['intents']:\n",
    "                    if tg['tag'] == tag:\n",
    "                        responses = tg['responses']\n",
    "                        tag_list= ['default']\n",
    "                print(f\"\\nMediBot: {random.choice(responses)}\\n\")\n",
    "                tag_list=['default']"
   ]
  },
  {
   "cell_type": "markdown",
   "id": "f1bd74c3",
   "metadata": {},
   "source": [
    "# Chatbot deployment"
   ]
  },
  {
   "cell_type": "code",
   "execution_count": 12,
   "id": "16140440",
   "metadata": {},
   "outputs": [
    {
     "name": "stdout",
     "output_type": "stream",
     "text": [
      "\n",
      "Hi, selamat datang ke Farmasi NLP!\n",
      "1. Taip 'mic'--untuk guna mic\n",
      "2. Masukkan simptom\n",
      "3. Pertanyaan tentang pencegahan penyakit\n",
      "4. Taip 'balik' untuk mula semula\n",
      "5. Taip 'keluar'--tamat chatbot\n",
      "\n",
      "Anda: sya xde miant\n",
      "1/1 [==============================] - 0s 122ms/step\n",
      "\n",
      "MediBot: Maaf, saya tidak faham. adakah anda bermaksud untuk mengatakan ['saya', 'tidak', 'ada', 'minat']? sila taip 'y' untuk ya atau 't' untuk tidak\n",
      "\n",
      "Anda: y\n",
      "\n",
      "MediBot: Nampaknya anda mengalami kemurungan\n",
      "          Untuk mengetahui lebih info, sila taip 'y' atau 't' untuk tidak\n",
      "\n",
      "Anda: y\n",
      "1/1 [==============================] - 0s 17ms/step\n",
      "\n",
      "MediBot: (a) Ubat-ubatan yang boleh anda makan: 1) Brexpiprazole 2) Quetiapine 3) Olanzapine. (b) Pencegahan yang mesti anda ikuti: 1) Bersenam secara teratur 2) Potong masa media sosial 3) Minum air sebagai minuman utama anda 4) Membina hubungan yang kuat 5) Meminimumkan pilihan harian anda 6) Ikuti karbohidrat yang sangat rendah diet. (c) Makanan yang dicadangkan adalah: 1) Dapatkan cukup vitamin D 2) Termasuk asid lemak omega-3 3) Kacang dan kekacang\n",
      "\n",
      "Anda: keluar\n",
      "\n",
      "MediBot: Jumpa lagi\n",
      "\n"
     ]
    }
   ],
   "source": [
    "predict_label()"
   ]
  }
 ],
 "metadata": {
  "kernelspec": {
   "display_name": "Python 3",
   "language": "python",
   "name": "python3"
  },
  "language_info": {
   "codemirror_mode": {
    "name": "ipython",
    "version": 3
   },
   "file_extension": ".py",
   "mimetype": "text/x-python",
   "name": "python",
   "nbconvert_exporter": "python",
   "pygments_lexer": "ipython3",
   "version": "3.8.8"
  }
 },
 "nbformat": 4,
 "nbformat_minor": 5
}
